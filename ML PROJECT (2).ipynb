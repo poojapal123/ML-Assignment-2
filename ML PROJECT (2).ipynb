{
 "cells": [
  {
   "cell_type": "markdown",
   "id": "c3a98866",
   "metadata": {},
   "source": [
    "# Project On Automobile Price"
   ]
  },
  {
   "cell_type": "code",
   "execution_count": 3,
   "id": "332ebd64",
   "metadata": {},
   "outputs": [],
   "source": [
    "import numpy as np\n",
    "import pandas as pd\n",
    "import matplotlib.pyplot as plt \n",
    "import seaborn as sb\n",
    "import warnings\n",
    "warnings.filterwarnings('ignore')"
   ]
  },
  {
   "cell_type": "code",
   "execution_count": 95,
   "id": "a267e065",
   "metadata": {},
   "outputs": [
    {
     "data": {
      "text/html": [
       "<div>\n",
       "<style scoped>\n",
       "    .dataframe tbody tr th:only-of-type {\n",
       "        vertical-align: middle;\n",
       "    }\n",
       "\n",
       "    .dataframe tbody tr th {\n",
       "        vertical-align: top;\n",
       "    }\n",
       "\n",
       "    .dataframe thead th {\n",
       "        text-align: right;\n",
       "    }\n",
       "</style>\n",
       "<table border=\"1\" class=\"dataframe\">\n",
       "  <thead>\n",
       "    <tr style=\"text-align: right;\">\n",
       "      <th></th>\n",
       "      <th>symboling</th>\n",
       "      <th>make</th>\n",
       "      <th>fueltype</th>\n",
       "      <th>aspiration</th>\n",
       "      <th>doornumber</th>\n",
       "      <th>carbody</th>\n",
       "      <th>drivewheel</th>\n",
       "      <th>enginelocation</th>\n",
       "      <th>wheelbase</th>\n",
       "      <th>carlength</th>\n",
       "      <th>...</th>\n",
       "      <th>enginesize</th>\n",
       "      <th>fuelsystem</th>\n",
       "      <th>boreratio</th>\n",
       "      <th>stroke</th>\n",
       "      <th>compressionratio</th>\n",
       "      <th>horsepower</th>\n",
       "      <th>peakrpm</th>\n",
       "      <th>citympg</th>\n",
       "      <th>highwaympg</th>\n",
       "      <th>price</th>\n",
       "    </tr>\n",
       "  </thead>\n",
       "  <tbody>\n",
       "    <tr>\n",
       "      <th>0</th>\n",
       "      <td>3</td>\n",
       "      <td>alfa-romero giulia</td>\n",
       "      <td>gas</td>\n",
       "      <td>std</td>\n",
       "      <td>two</td>\n",
       "      <td>convertible</td>\n",
       "      <td>rwd</td>\n",
       "      <td>front</td>\n",
       "      <td>88.6</td>\n",
       "      <td>168.8</td>\n",
       "      <td>...</td>\n",
       "      <td>130</td>\n",
       "      <td>mpfi</td>\n",
       "      <td>3.47</td>\n",
       "      <td>2.68</td>\n",
       "      <td>9.0</td>\n",
       "      <td>111</td>\n",
       "      <td>5000</td>\n",
       "      <td>21</td>\n",
       "      <td>27</td>\n",
       "      <td>13495.0</td>\n",
       "    </tr>\n",
       "    <tr>\n",
       "      <th>1</th>\n",
       "      <td>3</td>\n",
       "      <td>alfa-romero stelvio</td>\n",
       "      <td>gas</td>\n",
       "      <td>std</td>\n",
       "      <td>two</td>\n",
       "      <td>convertible</td>\n",
       "      <td>rwd</td>\n",
       "      <td>front</td>\n",
       "      <td>88.6</td>\n",
       "      <td>168.8</td>\n",
       "      <td>...</td>\n",
       "      <td>130</td>\n",
       "      <td>mpfi</td>\n",
       "      <td>3.47</td>\n",
       "      <td>2.68</td>\n",
       "      <td>9.0</td>\n",
       "      <td>111</td>\n",
       "      <td>5000</td>\n",
       "      <td>21</td>\n",
       "      <td>27</td>\n",
       "      <td>16500.0</td>\n",
       "    </tr>\n",
       "    <tr>\n",
       "      <th>2</th>\n",
       "      <td>1</td>\n",
       "      <td>alfa-romero Quadrifoglio</td>\n",
       "      <td>gas</td>\n",
       "      <td>std</td>\n",
       "      <td>two</td>\n",
       "      <td>hatchback</td>\n",
       "      <td>rwd</td>\n",
       "      <td>front</td>\n",
       "      <td>94.5</td>\n",
       "      <td>171.2</td>\n",
       "      <td>...</td>\n",
       "      <td>152</td>\n",
       "      <td>mpfi</td>\n",
       "      <td>2.68</td>\n",
       "      <td>3.47</td>\n",
       "      <td>9.0</td>\n",
       "      <td>154</td>\n",
       "      <td>5000</td>\n",
       "      <td>19</td>\n",
       "      <td>26</td>\n",
       "      <td>16500.0</td>\n",
       "    </tr>\n",
       "  </tbody>\n",
       "</table>\n",
       "<p>3 rows × 25 columns</p>\n",
       "</div>"
      ],
      "text/plain": [
       "   symboling                      make fueltype aspiration doornumber  \\\n",
       "0          3        alfa-romero giulia      gas        std        two   \n",
       "1          3       alfa-romero stelvio      gas        std        two   \n",
       "2          1  alfa-romero Quadrifoglio      gas        std        two   \n",
       "\n",
       "       carbody drivewheel enginelocation  wheelbase  carlength  ...  \\\n",
       "0  convertible        rwd          front       88.6      168.8  ...   \n",
       "1  convertible        rwd          front       88.6      168.8  ...   \n",
       "2    hatchback        rwd          front       94.5      171.2  ...   \n",
       "\n",
       "   enginesize  fuelsystem  boreratio stroke compressionratio  horsepower  \\\n",
       "0         130        mpfi       3.47   2.68              9.0         111   \n",
       "1         130        mpfi       3.47   2.68              9.0         111   \n",
       "2         152        mpfi       2.68   3.47              9.0         154   \n",
       "\n",
       "  peakrpm  citympg  highwaympg    price  \n",
       "0    5000       21          27  13495.0  \n",
       "1    5000       21          27  16500.0  \n",
       "2    5000       19          26  16500.0  \n",
       "\n",
       "[3 rows x 25 columns]"
      ]
     },
     "execution_count": 95,
     "metadata": {},
     "output_type": "execute_result"
    }
   ],
   "source": [
    "am_data=pd.read_csv(\"C:\\\\Users\\\\Laptop-PC\\\\Documents\\\\machine learning module\\\\AutoData.csv\")\n",
    "am_data.head(3)"
   ]
  },
  {
   "cell_type": "markdown",
   "id": "33e27831",
   "metadata": {},
   "source": [
    "“Price” column is the target variable and rest of the columns are independent variables."
   ]
  },
  {
   "cell_type": "code",
   "execution_count": 5,
   "id": "3f6c7806",
   "metadata": {},
   "outputs": [
    {
     "data": {
      "text/plain": [
       "(205, 25)"
      ]
     },
     "execution_count": 5,
     "metadata": {},
     "output_type": "execute_result"
    }
   ],
   "source": [
    "am_data.shape"
   ]
  },
  {
   "cell_type": "markdown",
   "id": "79e5705e",
   "metadata": {},
   "source": [
    "it contains 205 records with 25 columns"
   ]
  },
  {
   "cell_type": "code",
   "execution_count": 6,
   "id": "e4956b52",
   "metadata": {},
   "outputs": [
    {
     "name": "stdout",
     "output_type": "stream",
     "text": [
      "<class 'pandas.core.frame.DataFrame'>\n",
      "RangeIndex: 205 entries, 0 to 204\n",
      "Data columns (total 25 columns):\n",
      " #   Column            Non-Null Count  Dtype  \n",
      "---  ------            --------------  -----  \n",
      " 0   symboling         205 non-null    int64  \n",
      " 1   make              205 non-null    object \n",
      " 2   fueltype          205 non-null    object \n",
      " 3   aspiration        205 non-null    object \n",
      " 4   doornumber        205 non-null    object \n",
      " 5   carbody           205 non-null    object \n",
      " 6   drivewheel        205 non-null    object \n",
      " 7   enginelocation    205 non-null    object \n",
      " 8   wheelbase         205 non-null    float64\n",
      " 9   carlength         205 non-null    float64\n",
      " 10  carwidth          205 non-null    float64\n",
      " 11  carheight         205 non-null    float64\n",
      " 12  curbweight        205 non-null    int64  \n",
      " 13  enginetype        205 non-null    object \n",
      " 14  cylindernumber    205 non-null    object \n",
      " 15  enginesize        205 non-null    int64  \n",
      " 16  fuelsystem        205 non-null    object \n",
      " 17  boreratio         205 non-null    float64\n",
      " 18  stroke            205 non-null    float64\n",
      " 19  compressionratio  205 non-null    float64\n",
      " 20  horsepower        205 non-null    int64  \n",
      " 21  peakrpm           205 non-null    int64  \n",
      " 22  citympg           205 non-null    int64  \n",
      " 23  highwaympg        205 non-null    int64  \n",
      " 24  price             205 non-null    float64\n",
      "dtypes: float64(8), int64(7), object(10)\n",
      "memory usage: 40.2+ KB\n"
     ]
    }
   ],
   "source": [
    "am_data.info()\n"
   ]
  },
  {
   "cell_type": "markdown",
   "id": "aa3d696a",
   "metadata": {},
   "source": [
    " it has no null values"
   ]
  },
  {
   "cell_type": "code",
   "execution_count": 7,
   "id": "04fd05bd",
   "metadata": {},
   "outputs": [
    {
     "data": {
      "text/html": [
       "<div>\n",
       "<style scoped>\n",
       "    .dataframe tbody tr th:only-of-type {\n",
       "        vertical-align: middle;\n",
       "    }\n",
       "\n",
       "    .dataframe tbody tr th {\n",
       "        vertical-align: top;\n",
       "    }\n",
       "\n",
       "    .dataframe thead th {\n",
       "        text-align: right;\n",
       "    }\n",
       "</style>\n",
       "<table border=\"1\" class=\"dataframe\">\n",
       "  <thead>\n",
       "    <tr style=\"text-align: right;\">\n",
       "      <th></th>\n",
       "      <th>symboling</th>\n",
       "      <th>wheelbase</th>\n",
       "      <th>carlength</th>\n",
       "      <th>carwidth</th>\n",
       "      <th>carheight</th>\n",
       "      <th>curbweight</th>\n",
       "      <th>enginesize</th>\n",
       "      <th>boreratio</th>\n",
       "      <th>stroke</th>\n",
       "      <th>compressionratio</th>\n",
       "      <th>horsepower</th>\n",
       "      <th>peakrpm</th>\n",
       "      <th>citympg</th>\n",
       "      <th>highwaympg</th>\n",
       "      <th>price</th>\n",
       "    </tr>\n",
       "  </thead>\n",
       "  <tbody>\n",
       "    <tr>\n",
       "      <th>count</th>\n",
       "      <td>205.000000</td>\n",
       "      <td>205.000000</td>\n",
       "      <td>205.000000</td>\n",
       "      <td>205.000000</td>\n",
       "      <td>205.000000</td>\n",
       "      <td>205.000000</td>\n",
       "      <td>205.000000</td>\n",
       "      <td>205.000000</td>\n",
       "      <td>205.000000</td>\n",
       "      <td>205.000000</td>\n",
       "      <td>205.000000</td>\n",
       "      <td>205.000000</td>\n",
       "      <td>205.000000</td>\n",
       "      <td>205.000000</td>\n",
       "      <td>205.000000</td>\n",
       "    </tr>\n",
       "    <tr>\n",
       "      <th>mean</th>\n",
       "      <td>0.834146</td>\n",
       "      <td>98.756585</td>\n",
       "      <td>174.049268</td>\n",
       "      <td>65.907805</td>\n",
       "      <td>53.724878</td>\n",
       "      <td>2555.565854</td>\n",
       "      <td>126.907317</td>\n",
       "      <td>3.329756</td>\n",
       "      <td>3.255415</td>\n",
       "      <td>10.142537</td>\n",
       "      <td>104.117073</td>\n",
       "      <td>5125.121951</td>\n",
       "      <td>25.219512</td>\n",
       "      <td>30.751220</td>\n",
       "      <td>13276.710571</td>\n",
       "    </tr>\n",
       "    <tr>\n",
       "      <th>std</th>\n",
       "      <td>1.245307</td>\n",
       "      <td>6.021776</td>\n",
       "      <td>12.337289</td>\n",
       "      <td>2.145204</td>\n",
       "      <td>2.443522</td>\n",
       "      <td>520.680204</td>\n",
       "      <td>41.642693</td>\n",
       "      <td>0.270844</td>\n",
       "      <td>0.313597</td>\n",
       "      <td>3.972040</td>\n",
       "      <td>39.544167</td>\n",
       "      <td>476.985643</td>\n",
       "      <td>6.542142</td>\n",
       "      <td>6.886443</td>\n",
       "      <td>7988.852332</td>\n",
       "    </tr>\n",
       "    <tr>\n",
       "      <th>min</th>\n",
       "      <td>-2.000000</td>\n",
       "      <td>86.600000</td>\n",
       "      <td>141.100000</td>\n",
       "      <td>60.300000</td>\n",
       "      <td>47.800000</td>\n",
       "      <td>1488.000000</td>\n",
       "      <td>61.000000</td>\n",
       "      <td>2.540000</td>\n",
       "      <td>2.070000</td>\n",
       "      <td>7.000000</td>\n",
       "      <td>48.000000</td>\n",
       "      <td>4150.000000</td>\n",
       "      <td>13.000000</td>\n",
       "      <td>16.000000</td>\n",
       "      <td>5118.000000</td>\n",
       "    </tr>\n",
       "    <tr>\n",
       "      <th>25%</th>\n",
       "      <td>0.000000</td>\n",
       "      <td>94.500000</td>\n",
       "      <td>166.300000</td>\n",
       "      <td>64.100000</td>\n",
       "      <td>52.000000</td>\n",
       "      <td>2145.000000</td>\n",
       "      <td>97.000000</td>\n",
       "      <td>3.150000</td>\n",
       "      <td>3.110000</td>\n",
       "      <td>8.600000</td>\n",
       "      <td>70.000000</td>\n",
       "      <td>4800.000000</td>\n",
       "      <td>19.000000</td>\n",
       "      <td>25.000000</td>\n",
       "      <td>7788.000000</td>\n",
       "    </tr>\n",
       "    <tr>\n",
       "      <th>50%</th>\n",
       "      <td>1.000000</td>\n",
       "      <td>97.000000</td>\n",
       "      <td>173.200000</td>\n",
       "      <td>65.500000</td>\n",
       "      <td>54.100000</td>\n",
       "      <td>2414.000000</td>\n",
       "      <td>120.000000</td>\n",
       "      <td>3.310000</td>\n",
       "      <td>3.290000</td>\n",
       "      <td>9.000000</td>\n",
       "      <td>95.000000</td>\n",
       "      <td>5200.000000</td>\n",
       "      <td>24.000000</td>\n",
       "      <td>30.000000</td>\n",
       "      <td>10295.000000</td>\n",
       "    </tr>\n",
       "    <tr>\n",
       "      <th>75%</th>\n",
       "      <td>2.000000</td>\n",
       "      <td>102.400000</td>\n",
       "      <td>183.100000</td>\n",
       "      <td>66.900000</td>\n",
       "      <td>55.500000</td>\n",
       "      <td>2935.000000</td>\n",
       "      <td>141.000000</td>\n",
       "      <td>3.580000</td>\n",
       "      <td>3.410000</td>\n",
       "      <td>9.400000</td>\n",
       "      <td>116.000000</td>\n",
       "      <td>5500.000000</td>\n",
       "      <td>30.000000</td>\n",
       "      <td>34.000000</td>\n",
       "      <td>16503.000000</td>\n",
       "    </tr>\n",
       "    <tr>\n",
       "      <th>max</th>\n",
       "      <td>3.000000</td>\n",
       "      <td>120.900000</td>\n",
       "      <td>208.100000</td>\n",
       "      <td>72.300000</td>\n",
       "      <td>59.800000</td>\n",
       "      <td>4066.000000</td>\n",
       "      <td>326.000000</td>\n",
       "      <td>3.940000</td>\n",
       "      <td>4.170000</td>\n",
       "      <td>23.000000</td>\n",
       "      <td>288.000000</td>\n",
       "      <td>6600.000000</td>\n",
       "      <td>49.000000</td>\n",
       "      <td>54.000000</td>\n",
       "      <td>45400.000000</td>\n",
       "    </tr>\n",
       "  </tbody>\n",
       "</table>\n",
       "</div>"
      ],
      "text/plain": [
       "        symboling   wheelbase   carlength    carwidth   carheight  \\\n",
       "count  205.000000  205.000000  205.000000  205.000000  205.000000   \n",
       "mean     0.834146   98.756585  174.049268   65.907805   53.724878   \n",
       "std      1.245307    6.021776   12.337289    2.145204    2.443522   \n",
       "min     -2.000000   86.600000  141.100000   60.300000   47.800000   \n",
       "25%      0.000000   94.500000  166.300000   64.100000   52.000000   \n",
       "50%      1.000000   97.000000  173.200000   65.500000   54.100000   \n",
       "75%      2.000000  102.400000  183.100000   66.900000   55.500000   \n",
       "max      3.000000  120.900000  208.100000   72.300000   59.800000   \n",
       "\n",
       "        curbweight  enginesize   boreratio      stroke  compressionratio  \\\n",
       "count   205.000000  205.000000  205.000000  205.000000        205.000000   \n",
       "mean   2555.565854  126.907317    3.329756    3.255415         10.142537   \n",
       "std     520.680204   41.642693    0.270844    0.313597          3.972040   \n",
       "min    1488.000000   61.000000    2.540000    2.070000          7.000000   \n",
       "25%    2145.000000   97.000000    3.150000    3.110000          8.600000   \n",
       "50%    2414.000000  120.000000    3.310000    3.290000          9.000000   \n",
       "75%    2935.000000  141.000000    3.580000    3.410000          9.400000   \n",
       "max    4066.000000  326.000000    3.940000    4.170000         23.000000   \n",
       "\n",
       "       horsepower      peakrpm     citympg  highwaympg         price  \n",
       "count  205.000000   205.000000  205.000000  205.000000    205.000000  \n",
       "mean   104.117073  5125.121951   25.219512   30.751220  13276.710571  \n",
       "std     39.544167   476.985643    6.542142    6.886443   7988.852332  \n",
       "min     48.000000  4150.000000   13.000000   16.000000   5118.000000  \n",
       "25%     70.000000  4800.000000   19.000000   25.000000   7788.000000  \n",
       "50%     95.000000  5200.000000   24.000000   30.000000  10295.000000  \n",
       "75%    116.000000  5500.000000   30.000000   34.000000  16503.000000  \n",
       "max    288.000000  6600.000000   49.000000   54.000000  45400.000000  "
      ]
     },
     "execution_count": 7,
     "metadata": {},
     "output_type": "execute_result"
    }
   ],
   "source": [
    "# numerical summary of data\n",
    "\n",
    "am_data.describe()"
   ]
  },
  {
   "cell_type": "markdown",
   "id": "f4befff7",
   "metadata": {},
   "source": [
    "### Data Cleaning"
   ]
  },
  {
   "cell_type": "code",
   "execution_count": 8,
   "id": "f293201b",
   "metadata": {},
   "outputs": [
    {
     "data": {
      "text/plain": [
       "0"
      ]
     },
     "execution_count": 8,
     "metadata": {},
     "output_type": "execute_result"
    }
   ],
   "source": [
    "am_data.duplicated().sum()"
   ]
  },
  {
   "cell_type": "markdown",
   "id": "dfad217a",
   "metadata": {},
   "source": [
    "there is no duplicate values"
   ]
  },
  {
   "cell_type": "code",
   "execution_count": 9,
   "id": "cea0b5db",
   "metadata": {},
   "outputs": [
    {
     "data": {
      "text/plain": [
       " 0    67\n",
       " 1    54\n",
       " 2    32\n",
       " 3    27\n",
       "-1    22\n",
       "-2     3\n",
       "Name: symboling, dtype: int64"
      ]
     },
     "execution_count": 9,
     "metadata": {},
     "output_type": "execute_result"
    }
   ],
   "source": [
    "#  1st column of the dataset\n",
    "#symboling:it assigned a risk factor,+3 indicates that the auto is risky, -3 indicates that it is probably pretty safe\n",
    "\n",
    "am_data['symboling'].value_counts()"
   ]
  },
  {
   "cell_type": "code",
   "execution_count": 10,
   "id": "31149894",
   "metadata": {},
   "outputs": [
    {
     "data": {
      "text/plain": [
       "toyota corona           6\n",
       "toyota corolla          6\n",
       "peugeot 504             6\n",
       "subaru dl               4\n",
       "mitsubishi mirage g4    3\n",
       "                       ..\n",
       "mazda glc 4             1\n",
       "mazda rx2 coupe         1\n",
       "maxda glc deluxe        1\n",
       "maxda rx3               1\n",
       "volvo 246               1\n",
       "Name: make, Length: 147, dtype: int64"
      ]
     },
     "execution_count": 10,
     "metadata": {},
     "output_type": "execute_result"
    }
   ],
   "source": [
    "am_data['make'].value_counts()"
   ]
  },
  {
   "cell_type": "code",
   "execution_count": 96,
   "id": "f6d13432",
   "metadata": {},
   "outputs": [],
   "source": [
    "# make is not a suitable match for this column so we will change the column name\n",
    "\n",
    "car_company=am_data['make'].apply(lambda x : x.split(' ')[0])"
   ]
  },
  {
   "cell_type": "code",
   "execution_count": 97,
   "id": "ad6771c5",
   "metadata": {},
   "outputs": [],
   "source": [
    "#deleting original data\n",
    "\n",
    "am_data=am_data.drop(['make'],axis=1)"
   ]
  },
  {
   "cell_type": "code",
   "execution_count": 98,
   "id": "1c0da0e6",
   "metadata": {},
   "outputs": [
    {
     "data": {
      "text/html": [
       "<div>\n",
       "<style scoped>\n",
       "    .dataframe tbody tr th:only-of-type {\n",
       "        vertical-align: middle;\n",
       "    }\n",
       "\n",
       "    .dataframe tbody tr th {\n",
       "        vertical-align: top;\n",
       "    }\n",
       "\n",
       "    .dataframe thead th {\n",
       "        text-align: right;\n",
       "    }\n",
       "</style>\n",
       "<table border=\"1\" class=\"dataframe\">\n",
       "  <thead>\n",
       "    <tr style=\"text-align: right;\">\n",
       "      <th></th>\n",
       "      <th>symboling</th>\n",
       "      <th>car_company</th>\n",
       "      <th>fueltype</th>\n",
       "      <th>aspiration</th>\n",
       "      <th>doornumber</th>\n",
       "      <th>carbody</th>\n",
       "      <th>drivewheel</th>\n",
       "      <th>enginelocation</th>\n",
       "      <th>wheelbase</th>\n",
       "      <th>carlength</th>\n",
       "      <th>...</th>\n",
       "      <th>enginesize</th>\n",
       "      <th>fuelsystem</th>\n",
       "      <th>boreratio</th>\n",
       "      <th>stroke</th>\n",
       "      <th>compressionratio</th>\n",
       "      <th>horsepower</th>\n",
       "      <th>peakrpm</th>\n",
       "      <th>citympg</th>\n",
       "      <th>highwaympg</th>\n",
       "      <th>price</th>\n",
       "    </tr>\n",
       "  </thead>\n",
       "  <tbody>\n",
       "    <tr>\n",
       "      <th>0</th>\n",
       "      <td>3</td>\n",
       "      <td>alfa-romero</td>\n",
       "      <td>gas</td>\n",
       "      <td>std</td>\n",
       "      <td>two</td>\n",
       "      <td>convertible</td>\n",
       "      <td>rwd</td>\n",
       "      <td>front</td>\n",
       "      <td>88.6</td>\n",
       "      <td>168.8</td>\n",
       "      <td>...</td>\n",
       "      <td>130</td>\n",
       "      <td>mpfi</td>\n",
       "      <td>3.47</td>\n",
       "      <td>2.68</td>\n",
       "      <td>9.0</td>\n",
       "      <td>111</td>\n",
       "      <td>5000</td>\n",
       "      <td>21</td>\n",
       "      <td>27</td>\n",
       "      <td>13495.0</td>\n",
       "    </tr>\n",
       "    <tr>\n",
       "      <th>1</th>\n",
       "      <td>3</td>\n",
       "      <td>alfa-romero</td>\n",
       "      <td>gas</td>\n",
       "      <td>std</td>\n",
       "      <td>two</td>\n",
       "      <td>convertible</td>\n",
       "      <td>rwd</td>\n",
       "      <td>front</td>\n",
       "      <td>88.6</td>\n",
       "      <td>168.8</td>\n",
       "      <td>...</td>\n",
       "      <td>130</td>\n",
       "      <td>mpfi</td>\n",
       "      <td>3.47</td>\n",
       "      <td>2.68</td>\n",
       "      <td>9.0</td>\n",
       "      <td>111</td>\n",
       "      <td>5000</td>\n",
       "      <td>21</td>\n",
       "      <td>27</td>\n",
       "      <td>16500.0</td>\n",
       "    </tr>\n",
       "  </tbody>\n",
       "</table>\n",
       "<p>2 rows × 25 columns</p>\n",
       "</div>"
      ],
      "text/plain": [
       "   symboling  car_company fueltype aspiration doornumber      carbody  \\\n",
       "0          3  alfa-romero      gas        std        two  convertible   \n",
       "1          3  alfa-romero      gas        std        two  convertible   \n",
       "\n",
       "  drivewheel enginelocation  wheelbase  carlength  ...  enginesize  \\\n",
       "0        rwd          front       88.6      168.8  ...         130   \n",
       "1        rwd          front       88.6      168.8  ...         130   \n",
       "\n",
       "   fuelsystem  boreratio stroke compressionratio  horsepower peakrpm  citympg  \\\n",
       "0        mpfi       3.47   2.68              9.0         111    5000       21   \n",
       "1        mpfi       3.47   2.68              9.0         111    5000       21   \n",
       "\n",
       "   highwaympg    price  \n",
       "0          27  13495.0  \n",
       "1          27  16500.0  \n",
       "\n",
       "[2 rows x 25 columns]"
      ]
     },
     "execution_count": 98,
     "metadata": {},
     "output_type": "execute_result"
    }
   ],
   "source": [
    "# inserting new column name in place of 'make' so that its relatable\n",
    "\n",
    "am_data.insert(1,\"car_company\",car_company)\n",
    "am_data.head(2)"
   ]
  },
  {
   "cell_type": "code",
   "execution_count": 99,
   "id": "925edabf",
   "metadata": {},
   "outputs": [
    {
     "data": {
      "text/plain": [
       "array(['alfa-romero', 'audi', 'bmw', 'chevrolet', 'dodge', 'honda',\n",
       "       'isuzu', 'jaguar', 'maxda', 'mazda', 'buick', 'mercury',\n",
       "       'mitsubishi', 'Nissan', 'nissan', 'peugeot', 'plymouth', 'porsche',\n",
       "       'porcshce', 'renault', 'saab', 'subaru', 'toyota', 'toyouta',\n",
       "       'vokswagen', 'volkswagen', 'vw', 'volvo'], dtype=object)"
      ]
     },
     "execution_count": 99,
     "metadata": {},
     "output_type": "execute_result"
    }
   ],
   "source": [
    "am_data.car_company.unique()"
   ]
  },
  {
   "cell_type": "markdown",
   "id": "7f65302d",
   "metadata": {},
   "source": [
    "we can see that there are some spelling error (maxda = mazda, Nissan = nissan, porsche = porcshce, toyota = toyouta, vokswagen = volkswagen = vw ) so we have to fix this all "
   ]
  },
  {
   "cell_type": "code",
   "execution_count": 100,
   "id": "8cae8538",
   "metadata": {},
   "outputs": [],
   "source": [
    "# correcting the spelling error\n",
    "\n",
    "am_data['car_company']=am_data['car_company'].replace({'maxda': 'mazda', 'nissan': 'Nissan', 'porcshce': 'porsche', 'toyouta': 'toyota', \n",
    "                            'vokswagen': 'volkswagen', 'vw': 'volkswagen'})"
   ]
  },
  {
   "cell_type": "code",
   "execution_count": 101,
   "id": "3c39882c",
   "metadata": {},
   "outputs": [
    {
     "data": {
      "text/plain": [
       "toyota         32\n",
       "Nissan         18\n",
       "mazda          17\n",
       "mitsubishi     13\n",
       "honda          13\n",
       "volkswagen     12\n",
       "subaru         12\n",
       "peugeot        11\n",
       "volvo          11\n",
       "dodge           9\n",
       "buick           8\n",
       "bmw             8\n",
       "audi            7\n",
       "plymouth        7\n",
       "saab            6\n",
       "porsche         5\n",
       "isuzu           4\n",
       "jaguar          3\n",
       "chevrolet       3\n",
       "alfa-romero     3\n",
       "renault         2\n",
       "mercury         1\n",
       "Name: car_company, dtype: int64"
      ]
     },
     "execution_count": 101,
     "metadata": {},
     "output_type": "execute_result"
    }
   ],
   "source": [
    "am_data['car_company'].value_counts()"
   ]
  },
  {
   "cell_type": "code",
   "execution_count": 17,
   "id": "28e5cf80",
   "metadata": {},
   "outputs": [
    {
     "data": {
      "text/plain": [
       "gas       185\n",
       "diesel     20\n",
       "Name: fueltype, dtype: int64"
      ]
     },
     "execution_count": 17,
     "metadata": {},
     "output_type": "execute_result"
    }
   ],
   "source": [
    "am_data['fueltype'].value_counts()"
   ]
  },
  {
   "cell_type": "code",
   "execution_count": 18,
   "id": "f35ffe9c",
   "metadata": {},
   "outputs": [
    {
     "data": {
      "text/plain": [
       "std      168\n",
       "turbo     37\n",
       "Name: aspiration, dtype: int64"
      ]
     },
     "execution_count": 18,
     "metadata": {},
     "output_type": "execute_result"
    }
   ],
   "source": [
    "am_data['aspiration'].value_counts()"
   ]
  },
  {
   "cell_type": "code",
   "execution_count": 19,
   "id": "61269628",
   "metadata": {},
   "outputs": [
    {
     "data": {
      "text/plain": [
       "four    115\n",
       "two      90\n",
       "Name: doornumber, dtype: int64"
      ]
     },
     "execution_count": 19,
     "metadata": {},
     "output_type": "execute_result"
    }
   ],
   "source": [
    "am_data['doornumber'].value_counts()"
   ]
  },
  {
   "cell_type": "code",
   "execution_count": 20,
   "id": "b884c03b",
   "metadata": {},
   "outputs": [
    {
     "data": {
      "text/plain": [
       "sedan          96\n",
       "hatchback      70\n",
       "wagon          25\n",
       "hardtop         8\n",
       "convertible     6\n",
       "Name: carbody, dtype: int64"
      ]
     },
     "execution_count": 20,
     "metadata": {},
     "output_type": "execute_result"
    }
   ],
   "source": [
    "am_data['carbody'].value_counts()"
   ]
  },
  {
   "cell_type": "code",
   "execution_count": 21,
   "id": "f956bc13",
   "metadata": {},
   "outputs": [
    {
     "data": {
      "text/plain": [
       "fwd    120\n",
       "rwd     76\n",
       "4wd      9\n",
       "Name: drivewheel, dtype: int64"
      ]
     },
     "execution_count": 21,
     "metadata": {},
     "output_type": "execute_result"
    }
   ],
   "source": [
    "am_data['drivewheel'].value_counts()"
   ]
  },
  {
   "cell_type": "code",
   "execution_count": 22,
   "id": "3425edb1",
   "metadata": {},
   "outputs": [
    {
     "data": {
      "text/plain": [
       "front    202\n",
       "rear       3\n",
       "Name: enginelocation, dtype: int64"
      ]
     },
     "execution_count": 22,
     "metadata": {},
     "output_type": "execute_result"
    }
   ],
   "source": [
    "am_data['enginelocation'].value_counts()"
   ]
  },
  {
   "cell_type": "code",
   "execution_count": 23,
   "id": "9bc2ed9e",
   "metadata": {},
   "outputs": [
    {
     "data": {
      "text/plain": [
       "94.5    21\n",
       "93.7    20\n",
       "95.7    13\n",
       "96.5     8\n",
       "97.3     7\n",
       "Name: wheelbase, dtype: int64"
      ]
     },
     "execution_count": 23,
     "metadata": {},
     "output_type": "execute_result"
    }
   ],
   "source": [
    "am_data['wheelbase'].value_counts().head()"
   ]
  },
  {
   "cell_type": "code",
   "execution_count": 24,
   "id": "b89beb8f",
   "metadata": {},
   "outputs": [
    {
     "data": {
      "text/plain": [
       "157.3    15\n",
       "188.8    11\n",
       "171.7     7\n",
       "186.7     7\n",
       "166.3     7\n",
       "Name: carlength, dtype: int64"
      ]
     },
     "execution_count": 24,
     "metadata": {},
     "output_type": "execute_result"
    }
   ],
   "source": [
    "am_data['carlength'].value_counts().head()"
   ]
  },
  {
   "cell_type": "code",
   "execution_count": 25,
   "id": "5f3f199b",
   "metadata": {},
   "outputs": [
    {
     "data": {
      "text/plain": [
       "ohc      148\n",
       "ohcf      15\n",
       "ohcv      13\n",
       "dohc      12\n",
       "l         12\n",
       "rotor      4\n",
       "dohcv      1\n",
       "Name: enginetype, dtype: int64"
      ]
     },
     "execution_count": 25,
     "metadata": {},
     "output_type": "execute_result"
    }
   ],
   "source": [
    "am_data['enginetype'].value_counts()"
   ]
  },
  {
   "cell_type": "code",
   "execution_count": 26,
   "id": "28f57623",
   "metadata": {},
   "outputs": [
    {
     "data": {
      "text/plain": [
       "four      159\n",
       "six        24\n",
       "five       11\n",
       "eight       5\n",
       "two         4\n",
       "three       1\n",
       "twelve      1\n",
       "Name: cylindernumber, dtype: int64"
      ]
     },
     "execution_count": 26,
     "metadata": {},
     "output_type": "execute_result"
    }
   ],
   "source": [
    "am_data['cylindernumber'].value_counts()"
   ]
  },
  {
   "cell_type": "code",
   "execution_count": 27,
   "id": "b0943e06",
   "metadata": {},
   "outputs": [
    {
     "data": {
      "text/plain": [
       "mpfi    94\n",
       "2bbl    66\n",
       "idi     20\n",
       "1bbl    11\n",
       "spdi     9\n",
       "4bbl     3\n",
       "mfi      1\n",
       "spfi     1\n",
       "Name: fuelsystem, dtype: int64"
      ]
     },
     "execution_count": 27,
     "metadata": {},
     "output_type": "execute_result"
    }
   ],
   "source": [
    "am_data['fuelsystem'].value_counts()"
   ]
  },
  {
   "cell_type": "markdown",
   "id": "ffd6143f",
   "metadata": {},
   "source": [
    "we have checked most of the columns and all are ready to use now we will check some relationships with target variable "
   ]
  },
  {
   "cell_type": "code",
   "execution_count": 102,
   "id": "46bed290",
   "metadata": {},
   "outputs": [],
   "source": [
    "# independent variables are again divided into Categorical and Numerical variables.\n",
    "\n",
    "var=am_data.columns\n",
    "numerical_var=am_data._get_numeric_data().columns\n",
    "categorical_var = list(set(var) - set(numerical_var))"
   ]
  },
  {
   "cell_type": "code",
   "execution_count": 103,
   "id": "2069948a",
   "metadata": {},
   "outputs": [
    {
     "data": {
      "text/plain": [
       "Index(['symboling', 'wheelbase', 'carlength', 'carwidth', 'carheight',\n",
       "       'curbweight', 'enginesize', 'boreratio', 'stroke', 'compressionratio',\n",
       "       'horsepower', 'peakrpm', 'citympg', 'highwaympg', 'price'],\n",
       "      dtype='object')"
      ]
     },
     "execution_count": 103,
     "metadata": {},
     "output_type": "execute_result"
    }
   ],
   "source": [
    "numerical_var"
   ]
  },
  {
   "cell_type": "code",
   "execution_count": 104,
   "id": "20d9eaa9",
   "metadata": {},
   "outputs": [
    {
     "name": "stdout",
     "output_type": "stream",
     "text": [
      "['enginetype', 'aspiration', 'fuelsystem', 'enginelocation', 'doornumber', 'fueltype', 'drivewheel', 'car_company', 'cylindernumber', 'carbody']\n"
     ]
    }
   ],
   "source": [
    "print(categorical_var)"
   ]
  },
  {
   "cell_type": "code",
   "execution_count": 31,
   "id": "60d3a394",
   "metadata": {},
   "outputs": [
    {
     "data": {
      "image/png": "[encoded data removed]",
      "text/plain": [
       "<Figure size 1440x288 with 5 Axes>"
      ]
     },
     "metadata": {
      "needs_background": "light"
     },
     "output_type": "display_data"
    },
    {
     "data": {
      "image/png": "[encoded data removed]",
      "text/plain": [
       "<Figure size 1440x288 with 5 Axes>"
      ]
     },
     "metadata": {
      "needs_background": "light"
     },
     "output_type": "display_data"
    },
    {
     "data": {
      "image/png": "[encoded data removed]",
      "text/plain": [
       "<Figure size 1152x288 with 5 Axes>"
      ]
     },
     "metadata": {
      "needs_background": "light"
     },
     "output_type": "display_data"
    }
   ],
   "source": [
    "# lets see how price are related with other variable using scatter plot\n",
    "\n",
    "sb.pairplot(am_data,x_vars=['wheelbase', 'carlength', 'carwidth', 'carheight', 'curbweight'],y_vars='price',height=4,aspect=1,kind='scatter');\n",
    "sb.pairplot(am_data,x_vars=['enginesize', 'boreratio', 'stroke', 'compressionratio', 'horsepower'],y_vars='price',height=4,aspect=1,kind='scatter');\n",
    "sb.pairplot(am_data,x_vars=['peakrpm', 'citympg', 'highwaympg', 'price'],y_vars='price',height=4,aspect=1,kind='scatter');\n"
   ]
  },
  {
   "cell_type": "markdown",
   "id": "c0cd7c45",
   "metadata": {},
   "source": [
    "we can see that, price and curbweight,enginesize,horsepower make a linear relation \n",
    "price and wheelbase,carlength,carwidth has slight linear relationship\n",
    "but there is no linear relation b/w price and carheight,boreratio,storke,compressionration,peakrpm,citympg,highwaympg"
   ]
  },
  {
   "cell_type": "code",
   "execution_count": 32,
   "id": "32acd376",
   "metadata": {},
   "outputs": [
    {
     "data": {
      "image/png": "[encoded data removed]",
      "text/plain": [
       "<Figure size 864x504 with 2 Axes>"
      ]
     },
     "metadata": {
      "needs_background": "light"
     },
     "output_type": "display_data"
    }
   ],
   "source": [
    "# lets see the correlation b/w diff variables\n",
    "\n",
    "plt.figure(figsize=(12,7))\n",
    "sb.heatmap(am_data.corr(),annot=True,cmap='Reds');\n",
    "\n"
   ]
  },
  {
   "cell_type": "markdown",
   "id": "13299d12",
   "metadata": {},
   "source": [
    "we can see that Price is positively correlated with wheelbase, carlength, carwidth, curbweight, enginesize, horsepower\n",
    "and Price is negatively correlated with citympg and highwaympg.."
   ]
  },
  {
   "cell_type": "code",
   "execution_count": 33,
   "id": "9c079438",
   "metadata": {},
   "outputs": [
    {
     "data": {
      "image/png": "[encoded data removed]",
      "text/plain": [
       "<Figure size 1080x1440 with 8 Axes>"
      ]
     },
     "metadata": {
      "needs_background": "light"
     },
     "output_type": "display_data"
    }
   ],
   "source": [
    "# we are using barplot to show relation of categorical and target variable\n",
    "\n",
    "plt.figure(figsize = (15,20))\n",
    "plt.subplot(4,2,1)\n",
    "sb.barplot(x = 'fueltype', y = 'price', data = am_data,color='salmon');\n",
    "plt.subplot(4,2,2)\n",
    "sb.barplot(x = 'aspiration', y = 'price', data = am_data,color='salmon');\n",
    "plt.subplot(4,2,3)\n",
    "sb.barplot(x = 'carbody', y = 'price', data = am_data,color='salmon');\n",
    "plt.subplot(4,2,4)\n",
    "sb.barplot(x = 'drivewheel', y = 'price', data = am_data,color='salmon');\n",
    "plt.subplot(4,2,5)\n",
    "sb.barplot(x = 'enginelocation', y = 'price', data = am_data,color='salmon');\n",
    "plt.subplot(4,2,6)\n",
    "sb.barplot(x = 'enginetype', y = 'price', data = am_data,color='salmon');\n",
    "plt.subplot(4,2,7)\n",
    "sb.barplot(x = 'cylindernumber', y = 'price', data = am_data,color='salmon');\n",
    "plt.subplot(4,2,8)\n",
    "sb.barplot(x = 'fuelsystem', y = 'price', data =am_data,color='salmon');"
   ]
  },
  {
   "cell_type": "markdown",
   "id": "cb6e01e3",
   "metadata": {},
   "source": [
    "we can see that,diesel cars are mostly used as compared to fuel gas cars.\n",
    "cars with turbo aspiration and rwd drivewheel with rear engine location are mostly used,\n",
    "The price of car is directly proportional to no. of cylinders in most cases,\n",
    "all the types of carbody is relatively cheaper as compared to convertible and hardtop carbody,\n",
    "dohcv enginetype with  mpfi fuelsystem are mostly used\n"
   ]
  },
  {
   "cell_type": "code",
   "execution_count": 34,
   "id": "60ae3f2f",
   "metadata": {},
   "outputs": [
    {
     "data": {
      "image/png": "[encoded data removed]",
      "text/plain": [
       "<Figure size 1296x360 with 1 Axes>"
      ]
     },
     "metadata": {
      "needs_background": "light"
     },
     "output_type": "display_data"
    }
   ],
   "source": [
    "plt.figure(figsize = (18,5))\n",
    "\n",
    "sb.barplot(x = 'car_company', y = 'price', data = am_data,color='salmon');"
   ]
  },
  {
   "cell_type": "markdown",
   "id": "01cfdc2d",
   "metadata": {},
   "source": [
    " it is clearly shows that the brands with most expensive vehicles in the data belong to bmw,jaguar,buick & porsche"
   ]
  },
  {
   "cell_type": "markdown",
   "id": "85d323fd",
   "metadata": {},
   "source": [
    "### Data Preparation :"
   ]
  },
  {
   "cell_type": "code",
   "execution_count": 105,
   "id": "f23c5031",
   "metadata": {},
   "outputs": [],
   "source": [
    "# prepare data for model building.\n",
    "\n",
    "# Split the data into x and y.\n",
    "\n",
    "x = am_data.drop(['price'],axis=1)\n",
    "y = am_data['price']"
   ]
  },
  {
   "cell_type": "code",
   "execution_count": 106,
   "id": "20f87805",
   "metadata": {},
   "outputs": [],
   "source": [
    "# Creating dummy variables for categorical variables\n",
    "\n",
    "categorical_var = am_data.select_dtypes(include=['object'])\n",
    "\n",
    "# convert into dummies\n",
    "dummies = pd.get_dummies(categorical_var, drop_first=True)\n",
    "\n",
    "# drop categorical variables \n",
    "x = x.drop(list(categorical_var.columns), axis=1)\n",
    "\n",
    "# concat dummy variables with X\n",
    "x= pd.concat([x, dummies], axis=1)"
   ]
  },
  {
   "cell_type": "markdown",
   "id": "5a582b40",
   "metadata": {},
   "source": [
    "#### Scaling the features and getting the final list of columns in dataframe for model building.\n"
   ]
  },
  {
   "cell_type": "code",
   "execution_count": 107,
   "id": "dc0d2579",
   "metadata": {},
   "outputs": [
    {
     "data": {
      "text/plain": [
       "Index(['symboling', 'wheelbase', 'carlength', 'carwidth', 'carheight',\n",
       "       'curbweight', 'enginesize', 'boreratio', 'stroke', 'compressionratio',\n",
       "       'horsepower', 'peakrpm', 'citympg', 'highwaympg',\n",
       "       'car_company_alfa-romero', 'car_company_audi', 'car_company_bmw',\n",
       "       'car_company_buick', 'car_company_chevrolet', 'car_company_dodge',\n",
       "       'car_company_honda', 'car_company_isuzu', 'car_company_jaguar',\n",
       "       'car_company_mazda', 'car_company_mercury', 'car_company_mitsubishi',\n",
       "       'car_company_peugeot', 'car_company_plymouth', 'car_company_porsche',\n",
       "       'car_company_renault', 'car_company_saab', 'car_company_subaru',\n",
       "       'car_company_toyota', 'car_company_volkswagen', 'car_company_volvo',\n",
       "       'fueltype_gas', 'aspiration_turbo', 'doornumber_two', 'carbody_hardtop',\n",
       "       'carbody_hatchback', 'carbody_sedan', 'carbody_wagon', 'drivewheel_fwd',\n",
       "       'drivewheel_rwd', 'enginelocation_rear', 'enginetype_dohcv',\n",
       "       'enginetype_l', 'enginetype_ohc', 'enginetype_ohcf', 'enginetype_ohcv',\n",
       "       'enginetype_rotor', 'cylindernumber_five', 'cylindernumber_four',\n",
       "       'cylindernumber_six', 'cylindernumber_three', 'cylindernumber_twelve',\n",
       "       'cylindernumber_two', 'fuelsystem_2bbl', 'fuelsystem_4bbl',\n",
       "       'fuelsystem_idi', 'fuelsystem_mfi', 'fuelsystem_mpfi',\n",
       "       'fuelsystem_spdi', 'fuelsystem_spfi'],\n",
       "      dtype='object')"
      ]
     },
     "execution_count": 107,
     "metadata": {},
     "output_type": "execute_result"
    }
   ],
   "source": [
    "from sklearn.preprocessing import scale\n",
    "cols = x.columns   # storing column names in cols\n",
    "x = pd.DataFrame(scale(x))  # scaling (the df is converted to a numpy array)\n",
    "x.columns = cols\n",
    "x.columns\n"
   ]
  },
  {
   "cell_type": "code",
   "execution_count": 108,
   "id": "41a12143",
   "metadata": {},
   "outputs": [],
   "source": [
    "# split into train and test\n",
    "\n",
    "from sklearn.model_selection import train_test_split\n",
    "x_train, x_test, y_train, y_test = train_test_split(x, y,test_size = 0.3)"
   ]
  },
  {
   "cell_type": "code",
   "execution_count": 109,
   "id": "2268eb35",
   "metadata": {},
   "outputs": [
    {
     "data": {
      "text/plain": [
       "((143, 64), (62, 64))"
      ]
     },
     "execution_count": 109,
     "metadata": {},
     "output_type": "execute_result"
    }
   ],
   "source": [
    "x_train.shape,x_test.shape"
   ]
  },
  {
   "cell_type": "markdown",
   "id": "2881daf3",
   "metadata": {},
   "source": [
    "### Model Building :"
   ]
  },
  {
   "cell_type": "code",
   "execution_count": 110,
   "id": "7686f490",
   "metadata": {},
   "outputs": [],
   "source": [
    "# Building the first model with all the features\n",
    "\n",
    "from sklearn.linear_model import LinearRegression\n",
    "\n",
    "#  create instance\n",
    "lr = LinearRegression()\n",
    "\n",
    "# fitting the training set\n",
    "lr.fit(x_train, y_train)\n",
    "\n",
    "# predict the test set\n",
    "y_pred = lr.predict(x_test)\n"
   ]
  },
  {
   "cell_type": "code",
   "execution_count": 41,
   "id": "54b05bc6",
   "metadata": {},
   "outputs": [
    {
     "data": {
      "text/plain": [
       "0.8922544374714463"
      ]
     },
     "execution_count": 41,
     "metadata": {},
     "output_type": "execute_result"
    }
   ],
   "source": [
    "from sklearn.metrics import r2_score\n",
    "\n",
    "r2_score(y_test,y_pred)"
   ]
  },
  {
   "cell_type": "markdown",
   "id": "c36e1d92",
   "metadata": {},
   "source": [
    "getting 89% R-squared with all the variables,Now we will build the model with lesser features"
   ]
  },
  {
   "cell_type": "code",
   "execution_count": 111,
   "id": "a4db5093",
   "metadata": {},
   "outputs": [],
   "source": [
    "# for lessor features we will use RFE to select optimal features\n",
    "\n",
    "from sklearn.feature_selection import RFE"
   ]
  },
  {
   "cell_type": "code",
   "execution_count": 112,
   "id": "acf3da02",
   "metadata": {},
   "outputs": [
    {
     "data": {
      "text/plain": [
       "RFE(estimator=LinearRegression(), n_features_to_select=12)"
      ]
     },
     "execution_count": 112,
     "metadata": {},
     "output_type": "execute_result"
    }
   ],
   "source": [
    "#create rfe parameter\n",
    "\n",
    "rfe=RFE(lr,12)\n",
    "rfe.fit(x_train,y_train)"
   ]
  },
  {
   "cell_type": "code",
   "execution_count": 113,
   "id": "17b5d5ff",
   "metadata": {},
   "outputs": [
    {
     "data": {
      "text/plain": [
       "array([False, False, False,  True, False,  True,  True, False, False,\n",
       "       False, False,  True, False, False, False, False,  True,  True,\n",
       "       False, False, False, False,  True, False, False, False, False,\n",
       "       False,  True, False, False, False, False, False, False, False,\n",
       "       False, False, False, False, False, False, False, False,  True,\n",
       "       False, False, False, False, False, False,  True,  True,  True,\n",
       "       False, False, False, False, False, False, False, False, False,\n",
       "       False])"
      ]
     },
     "execution_count": 113,
     "metadata": {},
     "output_type": "execute_result"
    }
   ],
   "source": [
    "rfe.support_"
   ]
  },
  {
   "cell_type": "code",
   "execution_count": 114,
   "id": "503aff64",
   "metadata": {},
   "outputs": [
    {
     "data": {
      "text/plain": [
       "Index(['carwidth', 'curbweight', 'enginesize', 'peakrpm', 'car_company_bmw',\n",
       "       'car_company_buick', 'car_company_jaguar', 'car_company_porsche',\n",
       "       'enginelocation_rear', 'cylindernumber_five', 'cylindernumber_four',\n",
       "       'cylindernumber_six'],\n",
       "      dtype='object')"
      ]
     },
     "execution_count": 114,
     "metadata": {},
     "output_type": "execute_result"
    }
   ],
   "source": [
    "x_train.columns[rfe.support_]"
   ]
  },
  {
   "cell_type": "code",
   "execution_count": 115,
   "id": "703e332a",
   "metadata": {},
   "outputs": [],
   "source": [
    "# subset the features selected by rfe\n",
    "    \n",
    "cols=x_train.columns[rfe.support_]"
   ]
  },
  {
   "cell_type": "code",
   "execution_count": 116,
   "id": "c05064f0",
   "metadata": {},
   "outputs": [
    {
     "data": {
      "text/html": [
       "<div>\n",
       "<style scoped>\n",
       "    .dataframe tbody tr th:only-of-type {\n",
       "        vertical-align: middle;\n",
       "    }\n",
       "\n",
       "    .dataframe tbody tr th {\n",
       "        vertical-align: top;\n",
       "    }\n",
       "\n",
       "    .dataframe thead th {\n",
       "        text-align: right;\n",
       "    }\n",
       "</style>\n",
       "<table border=\"1\" class=\"dataframe\">\n",
       "  <thead>\n",
       "    <tr style=\"text-align: right;\">\n",
       "      <th></th>\n",
       "      <th>const</th>\n",
       "      <th>carwidth</th>\n",
       "      <th>curbweight</th>\n",
       "      <th>enginesize</th>\n",
       "      <th>peakrpm</th>\n",
       "      <th>car_company_bmw</th>\n",
       "      <th>car_company_buick</th>\n",
       "      <th>car_company_jaguar</th>\n",
       "      <th>car_company_porsche</th>\n",
       "      <th>enginelocation_rear</th>\n",
       "      <th>cylindernumber_five</th>\n",
       "      <th>cylindernumber_four</th>\n",
       "      <th>cylindernumber_six</th>\n",
       "    </tr>\n",
       "  </thead>\n",
       "  <tbody>\n",
       "    <tr>\n",
       "      <th>110</th>\n",
       "      <td>1.0</td>\n",
       "      <td>1.164596</td>\n",
       "      <td>1.683518</td>\n",
       "      <td>0.604046</td>\n",
       "      <td>-2.049347</td>\n",
       "      <td>-0.201517</td>\n",
       "      <td>-0.201517</td>\n",
       "      <td>-0.121867</td>\n",
       "      <td>-0.158114</td>\n",
       "      <td>-0.121867</td>\n",
       "      <td>-0.23812</td>\n",
       "      <td>0.537874</td>\n",
       "      <td>-0.364138</td>\n",
       "    </tr>\n",
       "    <tr>\n",
       "      <th>200</th>\n",
       "      <td>1.0</td>\n",
       "      <td>1.398245</td>\n",
       "      <td>0.763241</td>\n",
       "      <td>0.339248</td>\n",
       "      <td>0.577692</td>\n",
       "      <td>-0.201517</td>\n",
       "      <td>-0.201517</td>\n",
       "      <td>-0.121867</td>\n",
       "      <td>-0.158114</td>\n",
       "      <td>-0.121867</td>\n",
       "      <td>-0.23812</td>\n",
       "      <td>0.537874</td>\n",
       "      <td>-0.364138</td>\n",
       "    </tr>\n",
       "    <tr>\n",
       "      <th>51</th>\n",
       "      <td>1.0</td>\n",
       "      <td>-0.798053</td>\n",
       "      <td>-1.262139</td>\n",
       "      <td>-0.864383</td>\n",
       "      <td>-0.262960</td>\n",
       "      <td>-0.201517</td>\n",
       "      <td>-0.201517</td>\n",
       "      <td>-0.121867</td>\n",
       "      <td>-0.158114</td>\n",
       "      <td>-0.121867</td>\n",
       "      <td>-0.23812</td>\n",
       "      <td>0.537874</td>\n",
       "      <td>-0.364138</td>\n",
       "    </tr>\n",
       "  </tbody>\n",
       "</table>\n",
       "</div>"
      ],
      "text/plain": [
       "     const  carwidth  curbweight  enginesize   peakrpm  car_company_bmw  \\\n",
       "110    1.0  1.164596    1.683518    0.604046 -2.049347        -0.201517   \n",
       "200    1.0  1.398245    0.763241    0.339248  0.577692        -0.201517   \n",
       "51     1.0 -0.798053   -1.262139   -0.864383 -0.262960        -0.201517   \n",
       "\n",
       "     car_company_buick  car_company_jaguar  car_company_porsche  \\\n",
       "110          -0.201517           -0.121867            -0.158114   \n",
       "200          -0.201517           -0.121867            -0.158114   \n",
       "51           -0.201517           -0.121867            -0.158114   \n",
       "\n",
       "     enginelocation_rear  cylindernumber_five  cylindernumber_four  \\\n",
       "110            -0.121867             -0.23812             0.537874   \n",
       "200            -0.121867             -0.23812             0.537874   \n",
       "51             -0.121867             -0.23812             0.537874   \n",
       "\n",
       "     cylindernumber_six  \n",
       "110           -0.364138  \n",
       "200           -0.364138  \n",
       "51            -0.364138  "
      ]
     },
     "execution_count": 116,
     "metadata": {},
     "output_type": "execute_result"
    }
   ],
   "source": [
    "# fitting SLR to training set \n",
    "\n",
    "import statsmodels.api as sm       # Model Building \n",
    "\n",
    "x_train_sm = sm.add_constant(x_train[cols])       # add constant to get an intercept\n",
    "\n",
    "lr = sm.OLS(y_train,x_train_sm).fit()        # fit the regression line using OLS \n",
    "\n",
    "x_train_sm.head(3)"
   ]
  },
  {
   "cell_type": "code",
   "execution_count": 117,
   "id": "026adb52",
   "metadata": {},
   "outputs": [
    {
     "name": "stdout",
     "output_type": "stream",
     "text": [
      "                            OLS Regression Results                            \n",
      "==============================================================================\n",
      "Dep. Variable:                  price   R-squared:                       0.923\n",
      "Model:                            OLS   Adj. R-squared:                  0.917\n",
      "Method:                 Least Squares   F-statistic:                     142.7\n",
      "Date:                Sat, 09 Apr 2022   Prob (F-statistic):           2.85e-67\n",
      "Time:                        01:22:03   Log-Likelihood:                -1305.3\n",
      "No. Observations:                 143   AIC:                             2635.\n",
      "Df Residuals:                     131   BIC:                             2670.\n",
      "Df Model:                          11                                         \n",
      "Covariance Type:            nonrobust                                         \n",
      "=======================================================================================\n",
      "                          coef    std err          t      P>|t|      [0.025      0.975]\n",
      "---------------------------------------------------------------------------------------\n",
      "const                1.336e+04    196.817     67.873      0.000     1.3e+04    1.37e+04\n",
      "carwidth             1846.2852    464.607      3.974      0.000     927.182    2765.389\n",
      "curbweight           2195.1666    497.570      4.412      0.000    1210.854    3179.479\n",
      "enginesize           1805.4499    492.058      3.669      0.000     832.041    2778.859\n",
      "peakrpm               759.2219    219.973      3.451      0.001     324.062    1194.381\n",
      "car_company_bmw      2176.4342    218.749      9.949      0.000    1743.697    2609.171\n",
      "car_company_buick    1368.8369    308.991      4.430      0.000     757.579    1980.095\n",
      "car_company_jaguar    608.3751    262.937      2.314      0.022      88.222    1128.528\n",
      "car_company_porsche   662.0250    146.015      4.534      0.000     373.172     950.878\n",
      "enginelocation_rear  1935.7371    189.582     10.211      0.000    1560.698    2310.776\n",
      "cylindernumber_five  -834.2009    284.092     -2.936      0.004   -1396.204    -272.198\n",
      "cylindernumber_four -1749.5757    438.494     -3.990      0.000   -2617.022    -882.129\n",
      "cylindernumber_six  -1262.3392    409.501     -3.083      0.003   -2072.430    -452.249\n",
      "==============================================================================\n",
      "Omnibus:                       24.546   Durbin-Watson:                   1.973\n",
      "Prob(Omnibus):                  0.000   Jarque-Bera (JB):               36.298\n",
      "Skew:                           0.894   Prob(JB):                     1.31e-08\n",
      "Kurtosis:                       4.702   Cond. No.                     2.64e+16\n",
      "==============================================================================\n",
      "\n",
      "Notes:\n",
      "[1] Standard Errors assume that the covariance matrix of the errors is correctly specified.\n",
      "[2] The smallest eigenvalue is 8.6e-31. This might indicate that there are\n",
      "strong multicollinearity problems or that the design matrix is singular.\n"
     ]
    }
   ],
   "source": [
    "print(lr.summary())"
   ]
  },
  {
   "cell_type": "code",
   "execution_count": 118,
   "id": "e4c9df70",
   "metadata": {},
   "outputs": [
    {
     "data": {
      "text/html": [
       "<div>\n",
       "<style scoped>\n",
       "    .dataframe tbody tr th:only-of-type {\n",
       "        vertical-align: middle;\n",
       "    }\n",
       "\n",
       "    .dataframe tbody tr th {\n",
       "        vertical-align: top;\n",
       "    }\n",
       "\n",
       "    .dataframe thead th {\n",
       "        text-align: right;\n",
       "    }\n",
       "</style>\n",
       "<table border=\"1\" class=\"dataframe\">\n",
       "  <thead>\n",
       "    <tr style=\"text-align: right;\">\n",
       "      <th></th>\n",
       "      <th>Features</th>\n",
       "      <th>VIF</th>\n",
       "    </tr>\n",
       "  </thead>\n",
       "  <tbody>\n",
       "    <tr>\n",
       "      <th>8</th>\n",
       "      <td>enginelocation_rear</td>\n",
       "      <td>77.62</td>\n",
       "    </tr>\n",
       "    <tr>\n",
       "      <th>7</th>\n",
       "      <td>car_company_porsche</td>\n",
       "      <td>77.37</td>\n",
       "    </tr>\n",
       "    <tr>\n",
       "      <th>2</th>\n",
       "      <td>enginesize</td>\n",
       "      <td>6.88</td>\n",
       "    </tr>\n",
       "    <tr>\n",
       "      <th>1</th>\n",
       "      <td>curbweight</td>\n",
       "      <td>6.84</td>\n",
       "    </tr>\n",
       "    <tr>\n",
       "      <th>0</th>\n",
       "      <td>carwidth</td>\n",
       "      <td>5.48</td>\n",
       "    </tr>\n",
       "    <tr>\n",
       "      <th>10</th>\n",
       "      <td>cylindernumber_four</td>\n",
       "      <td>5.17</td>\n",
       "    </tr>\n",
       "    <tr>\n",
       "      <th>11</th>\n",
       "      <td>cylindernumber_six</td>\n",
       "      <td>4.48</td>\n",
       "    </tr>\n",
       "    <tr>\n",
       "      <th>5</th>\n",
       "      <td>car_company_buick</td>\n",
       "      <td>2.70</td>\n",
       "    </tr>\n",
       "    <tr>\n",
       "      <th>9</th>\n",
       "      <td>cylindernumber_five</td>\n",
       "      <td>2.21</td>\n",
       "    </tr>\n",
       "    <tr>\n",
       "      <th>6</th>\n",
       "      <td>car_company_jaguar</td>\n",
       "      <td>1.74</td>\n",
       "    </tr>\n",
       "    <tr>\n",
       "      <th>3</th>\n",
       "      <td>peakrpm</td>\n",
       "      <td>1.35</td>\n",
       "    </tr>\n",
       "    <tr>\n",
       "      <th>4</th>\n",
       "      <td>car_company_bmw</td>\n",
       "      <td>1.35</td>\n",
       "    </tr>\n",
       "  </tbody>\n",
       "</table>\n",
       "</div>"
      ],
      "text/plain": [
       "               Features    VIF\n",
       "8   enginelocation_rear  77.62\n",
       "7   car_company_porsche  77.37\n",
       "2            enginesize   6.88\n",
       "1            curbweight   6.84\n",
       "0              carwidth   5.48\n",
       "10  cylindernumber_four   5.17\n",
       "11   cylindernumber_six   4.48\n",
       "5     car_company_buick   2.70\n",
       "9   cylindernumber_five   2.21\n",
       "6    car_company_jaguar   1.74\n",
       "3               peakrpm   1.35\n",
       "4       car_company_bmw   1.35"
      ]
     },
     "execution_count": 118,
     "metadata": {},
     "output_type": "execute_result"
    }
   ],
   "source": [
    "# to check multicollinearity\n",
    "\n",
    "from statsmodels.stats.outliers_influence import variance_inflation_factor\n",
    "vif_data = pd.DataFrame()\n",
    "vif_data['Features'] = x_train[cols].columns\n",
    "vif_data['VIF'] = [variance_inflation_factor( x_train[cols].values, i).round(2) \n",
    "                   for i in range( len(x_train[cols].columns))]\n",
    "vif_data = vif_data.sort_values(by = 'VIF', ascending = False)\n",
    "vif_data"
   ]
  },
  {
   "cell_type": "markdown",
   "id": "6454921b",
   "metadata": {},
   "source": [
    "we can see that few variables have multicollinearity lets check with 10 variable"
   ]
  },
  {
   "cell_type": "markdown",
   "id": "274e1609",
   "metadata": {},
   "source": [
    "### Build the model with 10 variables:"
   ]
  },
  {
   "cell_type": "code",
   "execution_count": 119,
   "id": "53be072a",
   "metadata": {},
   "outputs": [
    {
     "data": {
      "text/plain": [
       "RFE(estimator=LinearRegression(), n_features_to_select=10)"
      ]
     },
     "execution_count": 119,
     "metadata": {},
     "output_type": "execute_result"
    }
   ],
   "source": [
    "lr2=LinearRegression()\n",
    "rfe2=RFE(lr2,10)\n",
    "rfe2.fit(x_train,y_train)"
   ]
  },
  {
   "cell_type": "code",
   "execution_count": 120,
   "id": "b11df049",
   "metadata": {},
   "outputs": [
    {
     "data": {
      "text/plain": [
       "Index(['carwidth', 'curbweight', 'enginesize', 'car_company_bmw',\n",
       "       'car_company_buick', 'car_company_porsche', 'enginelocation_rear',\n",
       "       'cylindernumber_five', 'cylindernumber_four', 'cylindernumber_six'],\n",
       "      dtype='object')"
      ]
     },
     "execution_count": 120,
     "metadata": {},
     "output_type": "execute_result"
    }
   ],
   "source": [
    "x_train.columns[rfe2.support_]"
   ]
  },
  {
   "cell_type": "code",
   "execution_count": 121,
   "id": "b5611b21",
   "metadata": {},
   "outputs": [],
   "source": [
    "cols_1=x_train.columns[rfe2.support_]"
   ]
  },
  {
   "cell_type": "code",
   "execution_count": 122,
   "id": "7f75b43d",
   "metadata": {},
   "outputs": [
    {
     "data": {
      "text/html": [
       "<div>\n",
       "<style scoped>\n",
       "    .dataframe tbody tr th:only-of-type {\n",
       "        vertical-align: middle;\n",
       "    }\n",
       "\n",
       "    .dataframe tbody tr th {\n",
       "        vertical-align: top;\n",
       "    }\n",
       "\n",
       "    .dataframe thead th {\n",
       "        text-align: right;\n",
       "    }\n",
       "</style>\n",
       "<table border=\"1\" class=\"dataframe\">\n",
       "  <thead>\n",
       "    <tr style=\"text-align: right;\">\n",
       "      <th></th>\n",
       "      <th>const</th>\n",
       "      <th>carwidth</th>\n",
       "      <th>curbweight</th>\n",
       "      <th>enginesize</th>\n",
       "      <th>car_company_bmw</th>\n",
       "      <th>car_company_buick</th>\n",
       "      <th>car_company_porsche</th>\n",
       "      <th>enginelocation_rear</th>\n",
       "      <th>cylindernumber_five</th>\n",
       "      <th>cylindernumber_four</th>\n",
       "      <th>cylindernumber_six</th>\n",
       "    </tr>\n",
       "  </thead>\n",
       "  <tbody>\n",
       "    <tr>\n",
       "      <th>110</th>\n",
       "      <td>1.0</td>\n",
       "      <td>1.164596</td>\n",
       "      <td>1.683518</td>\n",
       "      <td>0.604046</td>\n",
       "      <td>-0.201517</td>\n",
       "      <td>-0.201517</td>\n",
       "      <td>-0.158114</td>\n",
       "      <td>-0.121867</td>\n",
       "      <td>-0.23812</td>\n",
       "      <td>0.537874</td>\n",
       "      <td>-0.364138</td>\n",
       "    </tr>\n",
       "    <tr>\n",
       "      <th>200</th>\n",
       "      <td>1.0</td>\n",
       "      <td>1.398245</td>\n",
       "      <td>0.763241</td>\n",
       "      <td>0.339248</td>\n",
       "      <td>-0.201517</td>\n",
       "      <td>-0.201517</td>\n",
       "      <td>-0.158114</td>\n",
       "      <td>-0.121867</td>\n",
       "      <td>-0.23812</td>\n",
       "      <td>0.537874</td>\n",
       "      <td>-0.364138</td>\n",
       "    </tr>\n",
       "    <tr>\n",
       "      <th>51</th>\n",
       "      <td>1.0</td>\n",
       "      <td>-0.798053</td>\n",
       "      <td>-1.262139</td>\n",
       "      <td>-0.864383</td>\n",
       "      <td>-0.201517</td>\n",
       "      <td>-0.201517</td>\n",
       "      <td>-0.158114</td>\n",
       "      <td>-0.121867</td>\n",
       "      <td>-0.23812</td>\n",
       "      <td>0.537874</td>\n",
       "      <td>-0.364138</td>\n",
       "    </tr>\n",
       "  </tbody>\n",
       "</table>\n",
       "</div>"
      ],
      "text/plain": [
       "     const  carwidth  curbweight  enginesize  car_company_bmw  \\\n",
       "110    1.0  1.164596    1.683518    0.604046        -0.201517   \n",
       "200    1.0  1.398245    0.763241    0.339248        -0.201517   \n",
       "51     1.0 -0.798053   -1.262139   -0.864383        -0.201517   \n",
       "\n",
       "     car_company_buick  car_company_porsche  enginelocation_rear  \\\n",
       "110          -0.201517            -0.158114            -0.121867   \n",
       "200          -0.201517            -0.158114            -0.121867   \n",
       "51           -0.201517            -0.158114            -0.121867   \n",
       "\n",
       "     cylindernumber_five  cylindernumber_four  cylindernumber_six  \n",
       "110             -0.23812             0.537874           -0.364138  \n",
       "200             -0.23812             0.537874           -0.364138  \n",
       "51              -0.23812             0.537874           -0.364138  "
      ]
     },
     "execution_count": 122,
     "metadata": {},
     "output_type": "execute_result"
    }
   ],
   "source": [
    "x_train_sm1 = sm.add_constant(x_train[cols_1])       \n",
    "lr2 = sm.OLS(y_train,x_train_sm1).fit()       \n",
    "x_train_sm1.head(3)"
   ]
  },
  {
   "cell_type": "code",
   "execution_count": 123,
   "id": "e4345263",
   "metadata": {},
   "outputs": [
    {
     "name": "stdout",
     "output_type": "stream",
     "text": [
      "                            OLS Regression Results                            \n",
      "==============================================================================\n",
      "Dep. Variable:                  price   R-squared:                       0.913\n",
      "Model:                            OLS   Adj. R-squared:                  0.907\n",
      "Method:                 Least Squares   F-statistic:                     154.4\n",
      "Date:                Sat, 09 Apr 2022   Prob (F-statistic):           6.74e-66\n",
      "Time:                        01:22:15   Log-Likelihood:                -1314.3\n",
      "No. Observations:                 143   AIC:                             2649.\n",
      "Df Residuals:                     133   BIC:                             2678.\n",
      "Df Model:                           9                                         \n",
      "Covariance Type:            nonrobust                                         \n",
      "=======================================================================================\n",
      "                          coef    std err          t      P>|t|      [0.025      0.975]\n",
      "---------------------------------------------------------------------------------------\n",
      "const                1.335e+04    207.909     64.192      0.000    1.29e+04    1.38e+04\n",
      "carwidth             1608.6346    483.801      3.325      0.001     651.695    2565.574\n",
      "curbweight           2012.6925    523.156      3.847      0.000     977.911    3047.474\n",
      "enginesize           2276.2419    442.635      5.142      0.000    1400.727    3151.757\n",
      "car_company_bmw      2096.7159    227.304      9.224      0.000    1647.117    2546.315\n",
      "car_company_buick     845.9184    285.231      2.966      0.004     281.742    1410.094\n",
      "car_company_porsche   684.5342    151.187      4.528      0.000     385.492     983.577\n",
      "enginelocation_rear  1963.6347    196.287     10.004      0.000    1575.386    2351.884\n",
      "cylindernumber_five  -907.6969    299.703     -3.029      0.003   -1500.498    -314.896\n",
      "cylindernumber_four -2390.9051    434.386     -5.504      0.000   -3250.104   -1531.706\n",
      "cylindernumber_six  -1736.8474    410.460     -4.231      0.000   -2548.722    -924.973\n",
      "==============================================================================\n",
      "Omnibus:                       20.893   Durbin-Watson:                   1.905\n",
      "Prob(Omnibus):                  0.000   Jarque-Bera (JB):               28.475\n",
      "Skew:                           0.813   Prob(JB):                     6.56e-07\n",
      "Kurtosis:                       4.462   Cond. No.                     2.63e+16\n",
      "==============================================================================\n",
      "\n",
      "Notes:\n",
      "[1] Standard Errors assume that the covariance matrix of the errors is correctly specified.\n",
      "[2] The smallest eigenvalue is 8.28e-31. This might indicate that there are\n",
      "strong multicollinearity problems or that the design matrix is singular.\n"
     ]
    }
   ],
   "source": [
    "print(lr2.summary())"
   ]
  },
  {
   "cell_type": "code",
   "execution_count": 124,
   "id": "bc111266",
   "metadata": {},
   "outputs": [
    {
     "data": {
      "text/html": [
       "<div>\n",
       "<style scoped>\n",
       "    .dataframe tbody tr th:only-of-type {\n",
       "        vertical-align: middle;\n",
       "    }\n",
       "\n",
       "    .dataframe tbody tr th {\n",
       "        vertical-align: top;\n",
       "    }\n",
       "\n",
       "    .dataframe thead th {\n",
       "        text-align: right;\n",
       "    }\n",
       "</style>\n",
       "<table border=\"1\" class=\"dataframe\">\n",
       "  <thead>\n",
       "    <tr style=\"text-align: right;\">\n",
       "      <th></th>\n",
       "      <th>Features</th>\n",
       "      <th>VIF</th>\n",
       "    </tr>\n",
       "  </thead>\n",
       "  <tbody>\n",
       "    <tr>\n",
       "      <th>6</th>\n",
       "      <td>enginelocation_rear</td>\n",
       "      <td>77.44</td>\n",
       "    </tr>\n",
       "    <tr>\n",
       "      <th>5</th>\n",
       "      <td>car_company_porsche</td>\n",
       "      <td>77.31</td>\n",
       "    </tr>\n",
       "    <tr>\n",
       "      <th>1</th>\n",
       "      <td>curbweight</td>\n",
       "      <td>6.76</td>\n",
       "    </tr>\n",
       "    <tr>\n",
       "      <th>0</th>\n",
       "      <td>carwidth</td>\n",
       "      <td>5.32</td>\n",
       "    </tr>\n",
       "    <tr>\n",
       "      <th>2</th>\n",
       "      <td>enginesize</td>\n",
       "      <td>4.99</td>\n",
       "    </tr>\n",
       "    <tr>\n",
       "      <th>8</th>\n",
       "      <td>cylindernumber_four</td>\n",
       "      <td>4.54</td>\n",
       "    </tr>\n",
       "    <tr>\n",
       "      <th>9</th>\n",
       "      <td>cylindernumber_six</td>\n",
       "      <td>4.03</td>\n",
       "    </tr>\n",
       "    <tr>\n",
       "      <th>7</th>\n",
       "      <td>cylindernumber_five</td>\n",
       "      <td>2.21</td>\n",
       "    </tr>\n",
       "    <tr>\n",
       "      <th>4</th>\n",
       "      <td>car_company_buick</td>\n",
       "      <td>2.06</td>\n",
       "    </tr>\n",
       "    <tr>\n",
       "      <th>3</th>\n",
       "      <td>car_company_bmw</td>\n",
       "      <td>1.31</td>\n",
       "    </tr>\n",
       "  </tbody>\n",
       "</table>\n",
       "</div>"
      ],
      "text/plain": [
       "              Features    VIF\n",
       "6  enginelocation_rear  77.44\n",
       "5  car_company_porsche  77.31\n",
       "1           curbweight   6.76\n",
       "0             carwidth   5.32\n",
       "2           enginesize   4.99\n",
       "8  cylindernumber_four   4.54\n",
       "9   cylindernumber_six   4.03\n",
       "7  cylindernumber_five   2.21\n",
       "4    car_company_buick   2.06\n",
       "3      car_company_bmw   1.31"
      ]
     },
     "execution_count": 124,
     "metadata": {},
     "output_type": "execute_result"
    }
   ],
   "source": [
    "# to check multicollinearity\n",
    "\n",
    "vif_data = pd.DataFrame()\n",
    "vif_data['Features'] = x_train[cols_1].columns\n",
    "vif_data['VIF'] = [variance_inflation_factor( x_train[cols_1].values, i).round(2) \n",
    "                   for i in range( len(x_train[cols_1].columns))]\n",
    "vif_data = vif_data.sort_values(by = 'VIF', ascending = False)\n",
    "vif_data"
   ]
  },
  {
   "cell_type": "code",
   "execution_count": 125,
   "id": "c253f0ff",
   "metadata": {},
   "outputs": [
    {
     "data": {
      "text/html": [
       "<div>\n",
       "<style scoped>\n",
       "    .dataframe tbody tr th:only-of-type {\n",
       "        vertical-align: middle;\n",
       "    }\n",
       "\n",
       "    .dataframe tbody tr th {\n",
       "        vertical-align: top;\n",
       "    }\n",
       "\n",
       "    .dataframe thead th {\n",
       "        text-align: right;\n",
       "    }\n",
       "</style>\n",
       "<table border=\"1\" class=\"dataframe\">\n",
       "  <thead>\n",
       "    <tr style=\"text-align: right;\">\n",
       "      <th></th>\n",
       "      <th>const</th>\n",
       "      <th>carwidth</th>\n",
       "      <th>enginesize</th>\n",
       "      <th>car_company_bmw</th>\n",
       "      <th>car_company_buick</th>\n",
       "      <th>car_company_porsche</th>\n",
       "      <th>enginelocation_rear</th>\n",
       "      <th>cylindernumber_five</th>\n",
       "      <th>cylindernumber_four</th>\n",
       "      <th>cylindernumber_six</th>\n",
       "    </tr>\n",
       "  </thead>\n",
       "  <tbody>\n",
       "    <tr>\n",
       "      <th>110</th>\n",
       "      <td>1.0</td>\n",
       "      <td>1.164596</td>\n",
       "      <td>0.604046</td>\n",
       "      <td>-0.201517</td>\n",
       "      <td>-0.201517</td>\n",
       "      <td>-0.158114</td>\n",
       "      <td>-0.121867</td>\n",
       "      <td>-0.23812</td>\n",
       "      <td>0.537874</td>\n",
       "      <td>-0.364138</td>\n",
       "    </tr>\n",
       "    <tr>\n",
       "      <th>200</th>\n",
       "      <td>1.0</td>\n",
       "      <td>1.398245</td>\n",
       "      <td>0.339248</td>\n",
       "      <td>-0.201517</td>\n",
       "      <td>-0.201517</td>\n",
       "      <td>-0.158114</td>\n",
       "      <td>-0.121867</td>\n",
       "      <td>-0.23812</td>\n",
       "      <td>0.537874</td>\n",
       "      <td>-0.364138</td>\n",
       "    </tr>\n",
       "  </tbody>\n",
       "</table>\n",
       "</div>"
      ],
      "text/plain": [
       "     const  carwidth  enginesize  car_company_bmw  car_company_buick  \\\n",
       "110    1.0  1.164596    0.604046        -0.201517          -0.201517   \n",
       "200    1.0  1.398245    0.339248        -0.201517          -0.201517   \n",
       "\n",
       "     car_company_porsche  enginelocation_rear  cylindernumber_five  \\\n",
       "110            -0.158114            -0.121867             -0.23812   \n",
       "200            -0.158114            -0.121867             -0.23812   \n",
       "\n",
       "     cylindernumber_four  cylindernumber_six  \n",
       "110             0.537874           -0.364138  \n",
       "200             0.537874           -0.364138  "
      ]
     },
     "execution_count": 125,
     "metadata": {},
     "output_type": "execute_result"
    }
   ],
   "source": [
    "x3 = x_train[cols_1].drop(['curbweight'], axis =1)\n",
    "\n",
    "x3_sm = sm.add_constant(x3)\n",
    "\n",
    "lr3 = sm.OLS(y_train,x3_sm).fit()\n",
    "\n",
    "x3_sm.head(2)\n"
   ]
  },
  {
   "cell_type": "code",
   "execution_count": 126,
   "id": "29345594",
   "metadata": {},
   "outputs": [
    {
     "name": "stdout",
     "output_type": "stream",
     "text": [
      "                            OLS Regression Results                            \n",
      "==============================================================================\n",
      "Dep. Variable:                  price   R-squared:                       0.903\n",
      "Model:                            OLS   Adj. R-squared:                  0.897\n",
      "Method:                 Least Squares   F-statistic:                     155.8\n",
      "Date:                Sat, 09 Apr 2022   Prob (F-statistic):           5.61e-64\n",
      "Time:                        01:22:25   Log-Likelihood:                -1321.9\n",
      "No. Observations:                 143   AIC:                             2662.\n",
      "Df Residuals:                     134   BIC:                             2688.\n",
      "Df Model:                           8                                         \n",
      "Covariance Type:            nonrobust                                         \n",
      "=======================================================================================\n",
      "                          coef    std err          t      P>|t|      [0.025      0.975]\n",
      "---------------------------------------------------------------------------------------\n",
      "const                 1.34e+04    217.818     61.528      0.000     1.3e+04    1.38e+04\n",
      "carwidth             2854.9908    377.371      7.565      0.000    2108.617    3601.364\n",
      "enginesize           3025.5819    417.445      7.248      0.000    2199.949    3851.215\n",
      "car_company_bmw      2049.2363    238.371      8.597      0.000    1577.781    2520.692\n",
      "car_company_buick     779.9593    299.018      2.608      0.010     188.554    1371.365\n",
      "car_company_porsche   657.3238    158.608      4.144      0.000     343.624     971.023\n",
      "enginelocation_rear  1933.2277    205.981      9.385      0.000    1525.834    2340.622\n",
      "cylindernumber_five  -851.4348    314.384     -2.708      0.008   -1473.231    -229.639\n",
      "cylindernumber_four -2289.2003    455.362     -5.027      0.000   -3189.827   -1388.574\n",
      "cylindernumber_six  -1441.5676    423.476     -3.404      0.001   -2279.130    -604.005\n",
      "==============================================================================\n",
      "Omnibus:                       23.236   Durbin-Watson:                   1.877\n",
      "Prob(Omnibus):                  0.000   Jarque-Bera (JB):               30.623\n",
      "Skew:                           0.925   Prob(JB):                     2.24e-07\n",
      "Kurtosis:                       4.311   Cond. No.                     7.07e+15\n",
      "==============================================================================\n",
      "\n",
      "Notes:\n",
      "[1] Standard Errors assume that the covariance matrix of the errors is correctly specified.\n",
      "[2] The smallest eigenvalue is 9.27e-30. This might indicate that there are\n",
      "strong multicollinearity problems or that the design matrix is singular.\n"
     ]
    }
   ],
   "source": [
    "print(lr3.summary())"
   ]
  },
  {
   "cell_type": "code",
   "execution_count": 127,
   "id": "d9cdf641",
   "metadata": {},
   "outputs": [
    {
     "data": {
      "text/html": [
       "<div>\n",
       "<style scoped>\n",
       "    .dataframe tbody tr th:only-of-type {\n",
       "        vertical-align: middle;\n",
       "    }\n",
       "\n",
       "    .dataframe tbody tr th {\n",
       "        vertical-align: top;\n",
       "    }\n",
       "\n",
       "    .dataframe thead th {\n",
       "        text-align: right;\n",
       "    }\n",
       "</style>\n",
       "<table border=\"1\" class=\"dataframe\">\n",
       "  <thead>\n",
       "    <tr style=\"text-align: right;\">\n",
       "      <th></th>\n",
       "      <th>Features</th>\n",
       "      <th>VIF</th>\n",
       "    </tr>\n",
       "  </thead>\n",
       "  <tbody>\n",
       "    <tr>\n",
       "      <th>5</th>\n",
       "      <td>enginelocation_rear</td>\n",
       "      <td>77.10</td>\n",
       "    </tr>\n",
       "    <tr>\n",
       "      <th>4</th>\n",
       "      <td>car_company_porsche</td>\n",
       "      <td>76.90</td>\n",
       "    </tr>\n",
       "    <tr>\n",
       "      <th>7</th>\n",
       "      <td>cylindernumber_four</td>\n",
       "      <td>4.53</td>\n",
       "    </tr>\n",
       "    <tr>\n",
       "      <th>1</th>\n",
       "      <td>enginesize</td>\n",
       "      <td>4.02</td>\n",
       "    </tr>\n",
       "    <tr>\n",
       "      <th>8</th>\n",
       "      <td>cylindernumber_six</td>\n",
       "      <td>3.89</td>\n",
       "    </tr>\n",
       "    <tr>\n",
       "      <th>0</th>\n",
       "      <td>carwidth</td>\n",
       "      <td>2.93</td>\n",
       "    </tr>\n",
       "    <tr>\n",
       "      <th>6</th>\n",
       "      <td>cylindernumber_five</td>\n",
       "      <td>2.20</td>\n",
       "    </tr>\n",
       "    <tr>\n",
       "      <th>3</th>\n",
       "      <td>car_company_buick</td>\n",
       "      <td>2.05</td>\n",
       "    </tr>\n",
       "    <tr>\n",
       "      <th>2</th>\n",
       "      <td>car_company_bmw</td>\n",
       "      <td>1.30</td>\n",
       "    </tr>\n",
       "  </tbody>\n",
       "</table>\n",
       "</div>"
      ],
      "text/plain": [
       "              Features    VIF\n",
       "5  enginelocation_rear  77.10\n",
       "4  car_company_porsche  76.90\n",
       "7  cylindernumber_four   4.53\n",
       "1           enginesize   4.02\n",
       "8   cylindernumber_six   3.89\n",
       "0             carwidth   2.93\n",
       "6  cylindernumber_five   2.20\n",
       "3    car_company_buick   2.05\n",
       "2      car_company_bmw   1.30"
      ]
     },
     "execution_count": 127,
     "metadata": {},
     "output_type": "execute_result"
    }
   ],
   "source": [
    "# to check multicollinearity\n",
    "\n",
    "vif_data = pd.DataFrame()\n",
    "vif_data['Features'] = x3.columns\n",
    "vif_data['VIF'] = [variance_inflation_factor( x3.values, i).round(2) \n",
    "                   for i in range( len(x3.columns))]\n",
    "vif_data = vif_data.sort_values(by = 'VIF', ascending = False)\n",
    "vif_data"
   ]
  },
  {
   "cell_type": "code",
   "execution_count": 128,
   "id": "38fbc8c3",
   "metadata": {},
   "outputs": [
    {
     "data": {
      "text/html": [
       "<div>\n",
       "<style scoped>\n",
       "    .dataframe tbody tr th:only-of-type {\n",
       "        vertical-align: middle;\n",
       "    }\n",
       "\n",
       "    .dataframe tbody tr th {\n",
       "        vertical-align: top;\n",
       "    }\n",
       "\n",
       "    .dataframe thead th {\n",
       "        text-align: right;\n",
       "    }\n",
       "</style>\n",
       "<table border=\"1\" class=\"dataframe\">\n",
       "  <thead>\n",
       "    <tr style=\"text-align: right;\">\n",
       "      <th></th>\n",
       "      <th>const</th>\n",
       "      <th>carwidth</th>\n",
       "      <th>enginesize</th>\n",
       "      <th>car_company_bmw</th>\n",
       "      <th>car_company_buick</th>\n",
       "      <th>car_company_porsche</th>\n",
       "      <th>cylindernumber_five</th>\n",
       "      <th>cylindernumber_four</th>\n",
       "      <th>cylindernumber_six</th>\n",
       "    </tr>\n",
       "  </thead>\n",
       "  <tbody>\n",
       "    <tr>\n",
       "      <th>110</th>\n",
       "      <td>1.0</td>\n",
       "      <td>1.164596</td>\n",
       "      <td>0.604046</td>\n",
       "      <td>-0.201517</td>\n",
       "      <td>-0.201517</td>\n",
       "      <td>-0.158114</td>\n",
       "      <td>-0.23812</td>\n",
       "      <td>0.537874</td>\n",
       "      <td>-0.364138</td>\n",
       "    </tr>\n",
       "    <tr>\n",
       "      <th>200</th>\n",
       "      <td>1.0</td>\n",
       "      <td>1.398245</td>\n",
       "      <td>0.339248</td>\n",
       "      <td>-0.201517</td>\n",
       "      <td>-0.201517</td>\n",
       "      <td>-0.158114</td>\n",
       "      <td>-0.23812</td>\n",
       "      <td>0.537874</td>\n",
       "      <td>-0.364138</td>\n",
       "    </tr>\n",
       "  </tbody>\n",
       "</table>\n",
       "</div>"
      ],
      "text/plain": [
       "     const  carwidth  enginesize  car_company_bmw  car_company_buick  \\\n",
       "110    1.0  1.164596    0.604046        -0.201517          -0.201517   \n",
       "200    1.0  1.398245    0.339248        -0.201517          -0.201517   \n",
       "\n",
       "     car_company_porsche  cylindernumber_five  cylindernumber_four  \\\n",
       "110            -0.158114             -0.23812             0.537874   \n",
       "200            -0.158114             -0.23812             0.537874   \n",
       "\n",
       "     cylindernumber_six  \n",
       "110           -0.364138  \n",
       "200           -0.364138  "
      ]
     },
     "execution_count": 128,
     "metadata": {},
     "output_type": "execute_result"
    }
   ],
   "source": [
    "x4 = x3.drop(['enginelocation_rear'], axis =1)\n",
    "\n",
    "x4_sm = sm.add_constant(x4)\n",
    "\n",
    "lr4 = sm.OLS(y_train,x4_sm).fit()\n",
    "\n",
    "x4_sm.head(2)\n"
   ]
  },
  {
   "cell_type": "code",
   "execution_count": 129,
   "id": "1300934d",
   "metadata": {},
   "outputs": [
    {
     "name": "stdout",
     "output_type": "stream",
     "text": [
      "                            OLS Regression Results                            \n",
      "==============================================================================\n",
      "Dep. Variable:                  price   R-squared:                       0.903\n",
      "Model:                            OLS   Adj. R-squared:                  0.897\n",
      "Method:                 Least Squares   F-statistic:                     155.8\n",
      "Date:                Sat, 09 Apr 2022   Prob (F-statistic):           5.61e-64\n",
      "Time:                        01:22:34   Log-Likelihood:                -1321.9\n",
      "No. Observations:                 143   AIC:                             2662.\n",
      "Df Residuals:                     134   BIC:                             2688.\n",
      "Df Model:                           8                                         \n",
      "Covariance Type:            nonrobust                                         \n",
      "=======================================================================================\n",
      "                          coef    std err          t      P>|t|      [0.025      0.975]\n",
      "---------------------------------------------------------------------------------------\n",
      "const                1.356e+04    221.255     61.283      0.000    1.31e+04     1.4e+04\n",
      "carwidth             2854.9908    377.371      7.565      0.000    2108.617    3601.364\n",
      "enginesize           3025.5819    417.445      7.248      0.000    2199.949    3851.215\n",
      "car_company_bmw      2049.2363    238.371      8.597      0.000    1577.781    2520.692\n",
      "car_company_buick     779.9593    299.018      2.608      0.010     188.554    1371.365\n",
      "car_company_porsche  3140.7240    422.844      7.428      0.000    2304.412    3977.036\n",
      "cylindernumber_five  -851.4348    314.384     -2.708      0.008   -1473.231    -229.639\n",
      "cylindernumber_four -2289.2003    455.362     -5.027      0.000   -3189.827   -1388.574\n",
      "cylindernumber_six  -1441.5676    423.476     -3.404      0.001   -2279.130    -604.005\n",
      "==============================================================================\n",
      "Omnibus:                       23.236   Durbin-Watson:                   1.877\n",
      "Prob(Omnibus):                  0.000   Jarque-Bera (JB):               30.623\n",
      "Skew:                           0.925   Prob(JB):                     2.24e-07\n",
      "Kurtosis:                       4.311   Cond. No.                         5.16\n",
      "==============================================================================\n",
      "\n",
      "Notes:\n",
      "[1] Standard Errors assume that the covariance matrix of the errors is correctly specified.\n"
     ]
    }
   ],
   "source": [
    "print(lr4.summary())"
   ]
  },
  {
   "cell_type": "code",
   "execution_count": 130,
   "id": "0389d260",
   "metadata": {},
   "outputs": [
    {
     "data": {
      "text/html": [
       "<div>\n",
       "<style scoped>\n",
       "    .dataframe tbody tr th:only-of-type {\n",
       "        vertical-align: middle;\n",
       "    }\n",
       "\n",
       "    .dataframe tbody tr th {\n",
       "        vertical-align: top;\n",
       "    }\n",
       "\n",
       "    .dataframe thead th {\n",
       "        text-align: right;\n",
       "    }\n",
       "</style>\n",
       "<table border=\"1\" class=\"dataframe\">\n",
       "  <thead>\n",
       "    <tr style=\"text-align: right;\">\n",
       "      <th></th>\n",
       "      <th>Features</th>\n",
       "      <th>VIF</th>\n",
       "    </tr>\n",
       "  </thead>\n",
       "  <tbody>\n",
       "    <tr>\n",
       "      <th>6</th>\n",
       "      <td>cylindernumber_four</td>\n",
       "      <td>4.53</td>\n",
       "    </tr>\n",
       "    <tr>\n",
       "      <th>1</th>\n",
       "      <td>enginesize</td>\n",
       "      <td>4.02</td>\n",
       "    </tr>\n",
       "    <tr>\n",
       "      <th>7</th>\n",
       "      <td>cylindernumber_six</td>\n",
       "      <td>3.89</td>\n",
       "    </tr>\n",
       "    <tr>\n",
       "      <th>0</th>\n",
       "      <td>carwidth</td>\n",
       "      <td>2.94</td>\n",
       "    </tr>\n",
       "    <tr>\n",
       "      <th>5</th>\n",
       "      <td>cylindernumber_five</td>\n",
       "      <td>2.20</td>\n",
       "    </tr>\n",
       "    <tr>\n",
       "      <th>3</th>\n",
       "      <td>car_company_buick</td>\n",
       "      <td>2.05</td>\n",
       "    </tr>\n",
       "    <tr>\n",
       "      <th>2</th>\n",
       "      <td>car_company_bmw</td>\n",
       "      <td>1.30</td>\n",
       "    </tr>\n",
       "    <tr>\n",
       "      <th>4</th>\n",
       "      <td>car_company_porsche</td>\n",
       "      <td>1.11</td>\n",
       "    </tr>\n",
       "  </tbody>\n",
       "</table>\n",
       "</div>"
      ],
      "text/plain": [
       "              Features   VIF\n",
       "6  cylindernumber_four  4.53\n",
       "1           enginesize  4.02\n",
       "7   cylindernumber_six  3.89\n",
       "0             carwidth  2.94\n",
       "5  cylindernumber_five  2.20\n",
       "3    car_company_buick  2.05\n",
       "2      car_company_bmw  1.30\n",
       "4  car_company_porsche  1.11"
      ]
     },
     "execution_count": 130,
     "metadata": {},
     "output_type": "execute_result"
    }
   ],
   "source": [
    "# to check multicollinearity\n",
    "\n",
    "vif_data = pd.DataFrame()\n",
    "vif_data['Features'] = x4.columns\n",
    "vif_data['VIF'] = [variance_inflation_factor( x4.values, i).round(2) \n",
    "                   for i in range( len(x4.columns))]\n",
    "vif_data = vif_data.sort_values(by = 'VIF', ascending = False)\n",
    "vif_data"
   ]
  },
  {
   "cell_type": "code",
   "execution_count": 131,
   "id": "0e0bec82",
   "metadata": {},
   "outputs": [
    {
     "data": {
      "text/html": [
       "<div>\n",
       "<style scoped>\n",
       "    .dataframe tbody tr th:only-of-type {\n",
       "        vertical-align: middle;\n",
       "    }\n",
       "\n",
       "    .dataframe tbody tr th {\n",
       "        vertical-align: top;\n",
       "    }\n",
       "\n",
       "    .dataframe thead th {\n",
       "        text-align: right;\n",
       "    }\n",
       "</style>\n",
       "<table border=\"1\" class=\"dataframe\">\n",
       "  <thead>\n",
       "    <tr style=\"text-align: right;\">\n",
       "      <th></th>\n",
       "      <th>const</th>\n",
       "      <th>carwidth</th>\n",
       "      <th>enginesize</th>\n",
       "      <th>car_company_bmw</th>\n",
       "      <th>car_company_buick</th>\n",
       "      <th>car_company_porsche</th>\n",
       "      <th>cylindernumber_five</th>\n",
       "      <th>cylindernumber_six</th>\n",
       "    </tr>\n",
       "  </thead>\n",
       "  <tbody>\n",
       "    <tr>\n",
       "      <th>110</th>\n",
       "      <td>1.0</td>\n",
       "      <td>1.164596</td>\n",
       "      <td>0.604046</td>\n",
       "      <td>-0.201517</td>\n",
       "      <td>-0.201517</td>\n",
       "      <td>-0.158114</td>\n",
       "      <td>-0.23812</td>\n",
       "      <td>-0.364138</td>\n",
       "    </tr>\n",
       "    <tr>\n",
       "      <th>200</th>\n",
       "      <td>1.0</td>\n",
       "      <td>1.398245</td>\n",
       "      <td>0.339248</td>\n",
       "      <td>-0.201517</td>\n",
       "      <td>-0.201517</td>\n",
       "      <td>-0.158114</td>\n",
       "      <td>-0.23812</td>\n",
       "      <td>-0.364138</td>\n",
       "    </tr>\n",
       "  </tbody>\n",
       "</table>\n",
       "</div>"
      ],
      "text/plain": [
       "     const  carwidth  enginesize  car_company_bmw  car_company_buick  \\\n",
       "110    1.0  1.164596    0.604046        -0.201517          -0.201517   \n",
       "200    1.0  1.398245    0.339248        -0.201517          -0.201517   \n",
       "\n",
       "     car_company_porsche  cylindernumber_five  cylindernumber_six  \n",
       "110            -0.158114             -0.23812           -0.364138  \n",
       "200            -0.158114             -0.23812           -0.364138  "
      ]
     },
     "execution_count": 131,
     "metadata": {},
     "output_type": "execute_result"
    }
   ],
   "source": [
    "x5 = x4.drop(['cylindernumber_four'], axis =1)\n",
    "\n",
    "x5_sm = sm.add_constant(x5)\n",
    "\n",
    "lr5 = sm.OLS(y_train,x5_sm).fit()\n",
    "\n",
    "x5_sm.head(2)"
   ]
  },
  {
   "cell_type": "code",
   "execution_count": 132,
   "id": "23f46aa8",
   "metadata": {},
   "outputs": [
    {
     "name": "stdout",
     "output_type": "stream",
     "text": [
      "                            OLS Regression Results                            \n",
      "==============================================================================\n",
      "Dep. Variable:                  price   R-squared:                       0.885\n",
      "Model:                            OLS   Adj. R-squared:                  0.879\n",
      "Method:                 Least Squares   F-statistic:                     147.8\n",
      "Date:                Sat, 09 Apr 2022   Prob (F-statistic):           4.46e-60\n",
      "Time:                        01:22:52   Log-Likelihood:                -1334.2\n",
      "No. Observations:                 143   AIC:                             2684.\n",
      "Df Residuals:                     135   BIC:                             2708.\n",
      "Df Model:                           7                                         \n",
      "Covariance Type:            nonrobust                                         \n",
      "=======================================================================================\n",
      "                          coef    std err          t      P>|t|      [0.025      0.975]\n",
      "---------------------------------------------------------------------------------------\n",
      "const                1.356e+04    240.324     56.423      0.000    1.31e+04     1.4e+04\n",
      "carwidth             2816.6360    409.811      6.873      0.000    2006.156    3627.116\n",
      "enginesize           3352.6614    447.882      7.486      0.000    2466.889    4238.433\n",
      "car_company_bmw      2024.2119    258.858      7.820      0.000    1512.270    2536.154\n",
      "car_company_buick    1228.5933    309.987      3.963      0.000     615.534    1841.652\n",
      "car_company_porsche  3113.9127    459.251      6.780      0.000    2205.656    4022.169\n",
      "cylindernumber_five    73.4375    276.905      0.265      0.791    -474.195     621.070\n",
      "cylindernumber_six     82.6770    321.119      0.257      0.797    -552.398     717.753\n",
      "==============================================================================\n",
      "Omnibus:                       15.426   Durbin-Watson:                   1.729\n",
      "Prob(Omnibus):                  0.000   Jarque-Bera (JB):               16.937\n",
      "Skew:                           0.797   Prob(JB):                     0.000210\n",
      "Kurtosis:                       3.548   Cond. No.                         4.15\n",
      "==============================================================================\n",
      "\n",
      "Notes:\n",
      "[1] Standard Errors assume that the covariance matrix of the errors is correctly specified.\n"
     ]
    }
   ],
   "source": [
    "print(lr5.summary())"
   ]
  },
  {
   "cell_type": "code",
   "execution_count": 133,
   "id": "ce82bd40",
   "metadata": {},
   "outputs": [
    {
     "data": {
      "text/html": [
       "<div>\n",
       "<style scoped>\n",
       "    .dataframe tbody tr th:only-of-type {\n",
       "        vertical-align: middle;\n",
       "    }\n",
       "\n",
       "    .dataframe tbody tr th {\n",
       "        vertical-align: top;\n",
       "    }\n",
       "\n",
       "    .dataframe thead th {\n",
       "        text-align: right;\n",
       "    }\n",
       "</style>\n",
       "<table border=\"1\" class=\"dataframe\">\n",
       "  <thead>\n",
       "    <tr style=\"text-align: right;\">\n",
       "      <th></th>\n",
       "      <th>Features</th>\n",
       "      <th>VIF</th>\n",
       "    </tr>\n",
       "  </thead>\n",
       "  <tbody>\n",
       "    <tr>\n",
       "      <th>1</th>\n",
       "      <td>enginesize</td>\n",
       "      <td>3.92</td>\n",
       "    </tr>\n",
       "    <tr>\n",
       "      <th>0</th>\n",
       "      <td>carwidth</td>\n",
       "      <td>2.94</td>\n",
       "    </tr>\n",
       "    <tr>\n",
       "      <th>6</th>\n",
       "      <td>cylindernumber_six</td>\n",
       "      <td>1.89</td>\n",
       "    </tr>\n",
       "    <tr>\n",
       "      <th>3</th>\n",
       "      <td>car_company_buick</td>\n",
       "      <td>1.87</td>\n",
       "    </tr>\n",
       "    <tr>\n",
       "      <th>5</th>\n",
       "      <td>cylindernumber_five</td>\n",
       "      <td>1.45</td>\n",
       "    </tr>\n",
       "    <tr>\n",
       "      <th>2</th>\n",
       "      <td>car_company_bmw</td>\n",
       "      <td>1.30</td>\n",
       "    </tr>\n",
       "    <tr>\n",
       "      <th>4</th>\n",
       "      <td>car_company_porsche</td>\n",
       "      <td>1.11</td>\n",
       "    </tr>\n",
       "  </tbody>\n",
       "</table>\n",
       "</div>"
      ],
      "text/plain": [
       "              Features   VIF\n",
       "1           enginesize  3.92\n",
       "0             carwidth  2.94\n",
       "6   cylindernumber_six  1.89\n",
       "3    car_company_buick  1.87\n",
       "5  cylindernumber_five  1.45\n",
       "2      car_company_bmw  1.30\n",
       "4  car_company_porsche  1.11"
      ]
     },
     "execution_count": 133,
     "metadata": {},
     "output_type": "execute_result"
    }
   ],
   "source": [
    "# to check multicollinearity\n",
    "\n",
    "vif_data = pd.DataFrame()\n",
    "vif_data['Features'] = x5.columns\n",
    "vif_data['VIF'] = [variance_inflation_factor( x5.values, i).round(2) \n",
    "                   for i in range( len(x5.columns))]\n",
    "vif_data = vif_data.sort_values(by = 'VIF', ascending = False)\n",
    "vif_data"
   ]
  },
  {
   "cell_type": "code",
   "execution_count": 134,
   "id": "62c41491",
   "metadata": {},
   "outputs": [
    {
     "data": {
      "text/html": [
       "<div>\n",
       "<style scoped>\n",
       "    .dataframe tbody tr th:only-of-type {\n",
       "        vertical-align: middle;\n",
       "    }\n",
       "\n",
       "    .dataframe tbody tr th {\n",
       "        vertical-align: top;\n",
       "    }\n",
       "\n",
       "    .dataframe thead th {\n",
       "        text-align: right;\n",
       "    }\n",
       "</style>\n",
       "<table border=\"1\" class=\"dataframe\">\n",
       "  <thead>\n",
       "    <tr style=\"text-align: right;\">\n",
       "      <th></th>\n",
       "      <th>const</th>\n",
       "      <th>carwidth</th>\n",
       "      <th>car_company_bmw</th>\n",
       "      <th>car_company_buick</th>\n",
       "      <th>car_company_porsche</th>\n",
       "      <th>cylindernumber_five</th>\n",
       "      <th>cylindernumber_six</th>\n",
       "    </tr>\n",
       "  </thead>\n",
       "  <tbody>\n",
       "    <tr>\n",
       "      <th>110</th>\n",
       "      <td>1.0</td>\n",
       "      <td>1.164596</td>\n",
       "      <td>-0.201517</td>\n",
       "      <td>-0.201517</td>\n",
       "      <td>-0.158114</td>\n",
       "      <td>-0.23812</td>\n",
       "      <td>-0.364138</td>\n",
       "    </tr>\n",
       "    <tr>\n",
       "      <th>200</th>\n",
       "      <td>1.0</td>\n",
       "      <td>1.398245</td>\n",
       "      <td>-0.201517</td>\n",
       "      <td>-0.201517</td>\n",
       "      <td>-0.158114</td>\n",
       "      <td>-0.23812</td>\n",
       "      <td>-0.364138</td>\n",
       "    </tr>\n",
       "  </tbody>\n",
       "</table>\n",
       "</div>"
      ],
      "text/plain": [
       "     const  carwidth  car_company_bmw  car_company_buick  car_company_porsche  \\\n",
       "110    1.0  1.164596        -0.201517          -0.201517            -0.158114   \n",
       "200    1.0  1.398245        -0.201517          -0.201517            -0.158114   \n",
       "\n",
       "     cylindernumber_five  cylindernumber_six  \n",
       "110             -0.23812           -0.364138  \n",
       "200             -0.23812           -0.364138  "
      ]
     },
     "execution_count": 134,
     "metadata": {},
     "output_type": "execute_result"
    }
   ],
   "source": [
    "x6 = x5.drop(['enginesize'], axis =1)\n",
    "\n",
    "x6_sm = sm.add_constant(x6)\n",
    "\n",
    "lr6 = sm.OLS(y_train,x6_sm).fit()\n",
    "\n",
    "x6_sm.head(2)"
   ]
  },
  {
   "cell_type": "code",
   "execution_count": 135,
   "id": "e0cca98c",
   "metadata": {},
   "outputs": [
    {
     "name": "stdout",
     "output_type": "stream",
     "text": [
      "                            OLS Regression Results                            \n",
      "==============================================================================\n",
      "Dep. Variable:                  price   R-squared:                       0.837\n",
      "Model:                            OLS   Adj. R-squared:                  0.829\n",
      "Method:                 Least Squares   F-statistic:                     116.1\n",
      "Date:                Sat, 09 Apr 2022   Prob (F-statistic):           5.19e-51\n",
      "Time:                        01:24:24   Log-Likelihood:                -1359.0\n",
      "No. Observations:                 143   AIC:                             2732.\n",
      "Df Residuals:                     136   BIC:                             2753.\n",
      "Df Model:                           6                                         \n",
      "Covariance Type:            nonrobust                                         \n",
      "=======================================================================================\n",
      "                          coef    std err          t      P>|t|      [0.025      0.975]\n",
      "---------------------------------------------------------------------------------------\n",
      "const                1.361e+04    284.721     47.798      0.000     1.3e+04    1.42e+04\n",
      "carwidth             4915.7129    354.194     13.879      0.000    4215.273    5616.153\n",
      "car_company_bmw      2149.1387    306.156      7.020      0.000    1543.696    2754.582\n",
      "car_company_buick    2325.2405    323.773      7.182      0.000    1684.959    2965.522\n",
      "car_company_porsche  3643.4254    537.802      6.775      0.000    2579.890    4706.961\n",
      "cylindernumber_five  -588.2807    311.011     -1.892      0.061   -1203.323      26.762\n",
      "cylindernumber_six   1173.5642    339.137      3.460      0.001     502.900    1844.228\n",
      "==============================================================================\n",
      "Omnibus:                       43.284   Durbin-Watson:                   1.947\n",
      "Prob(Omnibus):                  0.000   Jarque-Bera (JB):               85.627\n",
      "Skew:                           1.349   Prob(JB):                     2.55e-19\n",
      "Kurtosis:                       5.663   Cond. No.                         2.81\n",
      "==============================================================================\n",
      "\n",
      "Notes:\n",
      "[1] Standard Errors assume that the covariance matrix of the errors is correctly specified.\n"
     ]
    }
   ],
   "source": [
    "print(lr6.summary())"
   ]
  },
  {
   "cell_type": "code",
   "execution_count": 136,
   "id": "7930bb62",
   "metadata": {},
   "outputs": [
    {
     "data": {
      "text/html": [
       "<div>\n",
       "<style scoped>\n",
       "    .dataframe tbody tr th:only-of-type {\n",
       "        vertical-align: middle;\n",
       "    }\n",
       "\n",
       "    .dataframe tbody tr th {\n",
       "        vertical-align: top;\n",
       "    }\n",
       "\n",
       "    .dataframe thead th {\n",
       "        text-align: right;\n",
       "    }\n",
       "</style>\n",
       "<table border=\"1\" class=\"dataframe\">\n",
       "  <thead>\n",
       "    <tr style=\"text-align: right;\">\n",
       "      <th></th>\n",
       "      <th>Features</th>\n",
       "      <th>VIF</th>\n",
       "    </tr>\n",
       "  </thead>\n",
       "  <tbody>\n",
       "    <tr>\n",
       "      <th>0</th>\n",
       "      <td>carwidth</td>\n",
       "      <td>1.56</td>\n",
       "    </tr>\n",
       "    <tr>\n",
       "      <th>5</th>\n",
       "      <td>cylindernumber_six</td>\n",
       "      <td>1.50</td>\n",
       "    </tr>\n",
       "    <tr>\n",
       "      <th>2</th>\n",
       "      <td>car_company_buick</td>\n",
       "      <td>1.45</td>\n",
       "    </tr>\n",
       "    <tr>\n",
       "      <th>1</th>\n",
       "      <td>car_company_bmw</td>\n",
       "      <td>1.30</td>\n",
       "    </tr>\n",
       "    <tr>\n",
       "      <th>4</th>\n",
       "      <td>cylindernumber_five</td>\n",
       "      <td>1.30</td>\n",
       "    </tr>\n",
       "    <tr>\n",
       "      <th>3</th>\n",
       "      <td>car_company_porsche</td>\n",
       "      <td>1.09</td>\n",
       "    </tr>\n",
       "  </tbody>\n",
       "</table>\n",
       "</div>"
      ],
      "text/plain": [
       "              Features   VIF\n",
       "0             carwidth  1.56\n",
       "5   cylindernumber_six  1.50\n",
       "2    car_company_buick  1.45\n",
       "1      car_company_bmw  1.30\n",
       "4  cylindernumber_five  1.30\n",
       "3  car_company_porsche  1.09"
      ]
     },
     "execution_count": 136,
     "metadata": {},
     "output_type": "execute_result"
    }
   ],
   "source": [
    "# to check multicollinearity\n",
    "\n",
    "vif_data = pd.DataFrame()\n",
    "vif_data['Features'] = x6.columns\n",
    "vif_data['VIF'] = [variance_inflation_factor( x6.values, i).round(2) \n",
    "                   for i in range( len(x6.columns))]\n",
    "vif_data = vif_data.sort_values(by = 'VIF', ascending = False)\n",
    "vif_data"
   ]
  },
  {
   "cell_type": "markdown",
   "id": "63acc886",
   "metadata": {},
   "source": [
    "we can see that there is no multicollinearity,all VIF values & p-values are low and  good in range now we can accept these variables "
   ]
  },
  {
   "cell_type": "markdown",
   "id": "1066cd8e",
   "metadata": {},
   "source": [
    " ### Residual analysis of train data"
   ]
  },
  {
   "cell_type": "raw",
   "id": "d4793b12",
   "metadata": {},
   "source": [
    "# here we will check the error terms are normally distributed with mean approx 0 "
   ]
  },
  {
   "cell_type": "code",
   "execution_count": 137,
   "id": "832f8dee",
   "metadata": {},
   "outputs": [
    {
     "data": {
      "text/plain": [
       "110    17568.823766\n",
       "200    18717.373473\n",
       "51      7921.006223\n",
       "81     10677.525521\n",
       "196    14812.304468\n",
       "dtype: float64"
      ]
     },
     "execution_count": 137,
     "metadata": {},
     "output_type": "execute_result"
    }
   ],
   "source": [
    "y_train_pred = lr6.predict(x6_sm)\n",
    "y_train_pred.head()"
   ]
  },
  {
   "cell_type": "code",
   "execution_count": 138,
   "id": "7c8b7223",
   "metadata": {},
   "outputs": [],
   "source": [
    "Residual = y_train- y_train_pred"
   ]
  },
  {
   "cell_type": "code",
   "execution_count": 139,
   "id": "c3b89777",
   "metadata": {},
   "outputs": [
    {
     "data": {
      "text/plain": [
       "<AxesSubplot:ylabel='Density'>"
      ]
     },
     "execution_count": 139,
     "metadata": {},
     "output_type": "execute_result"
    },
    {
     "data": {
      "image/png": "[encoded data removed]",
      "text/plain": [
       "<Figure size 432x288 with 1 Axes>"
      ]
     },
     "metadata": {
      "needs_background": "light"
     },
     "output_type": "display_data"
    }
   ],
   "source": [
    "sb.distplot(Residual, bins =20,color='r')"
   ]
  },
  {
   "cell_type": "markdown",
   "id": "0b7bab0e",
   "metadata": {},
   "source": [
    "it looks like that mean is not '0'"
   ]
  },
  {
   "cell_type": "code",
   "execution_count": 140,
   "id": "c6a3a6d6",
   "metadata": {},
   "outputs": [],
   "source": [
    "# making prediction in test set\n",
    "\n",
    "x_test_lr6=x_test[x6.columns]"
   ]
  },
  {
   "cell_type": "code",
   "execution_count": 141,
   "id": "b1cc590f",
   "metadata": {},
   "outputs": [],
   "source": [
    "x_test_lr6=sm.add_constant(x_test_lr6)"
   ]
  },
  {
   "cell_type": "code",
   "execution_count": 142,
   "id": "0fd99f09",
   "metadata": {},
   "outputs": [],
   "source": [
    "y_pred_new=lr6.predict(x_test_lr6)"
   ]
  },
  {
   "cell_type": "code",
   "execution_count": 143,
   "id": "70fc0b35",
   "metadata": {},
   "outputs": [
    {
     "data": {
      "text/plain": [
       "27      7002.166457\n",
       "169    11136.945404\n",
       "104    20070.466956\n",
       "164     7461.586340\n",
       "83     12744.914995\n",
       "dtype: float64"
      ]
     },
     "execution_count": 143,
     "metadata": {},
     "output_type": "execute_result"
    }
   ],
   "source": [
    "y_pred_new.head()"
   ]
  },
  {
   "cell_type": "code",
   "execution_count": 144,
   "id": "e2de7cf9",
   "metadata": {},
   "outputs": [
    {
     "data": {
      "text/plain": [
       "27      8558.0\n",
       "169     9989.0\n",
       "104    17199.0\n",
       "164     8238.0\n",
       "83     14869.0\n",
       "Name: price, dtype: float64"
      ]
     },
     "execution_count": 144,
     "metadata": {},
     "output_type": "execute_result"
    }
   ],
   "source": [
    "y_test.head()"
   ]
  },
  {
   "cell_type": "markdown",
   "id": "9fa53023",
   "metadata": {},
   "source": [
    " ### Residual analysis of test data"
   ]
  },
  {
   "cell_type": "code",
   "execution_count": 145,
   "id": "63ce43ce",
   "metadata": {},
   "outputs": [
    {
     "data": {
      "image/png": "[encoded data removed]",
      "text/plain": [
       "<Figure size 432x288 with 1 Axes>"
      ]
     },
     "metadata": {
      "needs_background": "light"
     },
     "output_type": "display_data"
    }
   ],
   "source": [
    "# Error terms\n",
    "\n",
    "c = [i for i in range(len(y_pred_new))]\n",
    "\n",
    "plt.plot(c,y_test, color=\"red\");\n",
    "plt.plot(c, y_pred_new,color = 'green');\n",
    "plt.title('Error Terms',fontsize=15);\n"
   ]
  },
  {
   "cell_type": "code",
   "execution_count": 147,
   "id": "bff75f1c",
   "metadata": {},
   "outputs": [
    {
     "data": {
      "image/png": "[encoded data removed]",
      "text/plain": [
       "<Figure size 432x288 with 1 Axes>"
      ]
     },
     "metadata": {
      "needs_background": "light"
     },
     "output_type": "display_data"
    }
   ],
   "source": [
    "# Plotting the error terms to understand the distribution.\n",
    "                \n",
    "sb.distplot((y_test-y_pred_new),bins=30) ;                  "
   ]
  },
  {
   "cell_type": "markdown",
   "id": "fa599506",
   "metadata": {},
   "source": [
    "it looks like that mean is not 0, and scale of ‘Price’ lies in negative number"
   ]
  },
  {
   "cell_type": "code",
   "execution_count": 148,
   "id": "4fd6eddd",
   "metadata": {},
   "outputs": [
    {
     "data": {
      "image/png": "[encoded data removed]",
      "text/plain": [
       "<Figure size 432x288 with 1 Axes>"
      ]
     },
     "metadata": {
      "needs_background": "light"
     },
     "output_type": "display_data"
    }
   ],
   "source": [
    "plt.scatter(y_test, y_pred_new);\n",
    "plt.xlabel('y_test');\n",
    "plt.ylabel('y_pred');"
   ]
  },
  {
   "cell_type": "code",
   "execution_count": 225,
   "id": "4c996ee5",
   "metadata": {},
   "outputs": [
    {
     "data": {
      "text/plain": [
       "0.8112617537824667"
      ]
     },
     "execution_count": 225,
     "metadata": {},
     "output_type": "execute_result"
    }
   ],
   "source": [
    "r2_score(y_test, y_pred_new)"
   ]
  },
  {
   "cell_type": "markdown",
   "id": "83c3e3c9",
   "metadata": {},
   "source": [
    "The R2 score of Training set is 82% and Test set is 81% which is quite close. Hence, We can say that our model is good enough to predict the Car prices using below predictor variables\n",
    "\n",
    "\n",
    "carwidth\t\n",
    "cylindernumber_six\t\n",
    "car_company_buick\t\n",
    "car_company_bmw\t\n",
    "cylindernumber_five\t\n",
    "car_company_porsche\n",
    "\n",
    "\n",
    "These are the variables that are significant in predicting the price of a car."
   ]
  }
 ],
 "metadata": {
  "kernelspec": {
   "display_name": "Python 3 (ipykernel)",
   "language": "python",
   "name": "python3"
  },
  "language_info": {
   "codemirror_mode": {
    "name": "ipython",
    "version": 3
   },
   "file_extension": ".py",
   "mimetype": "text/x-python",
   "name": "python",
   "nbconvert_exporter": "python",
   "pygments_lexer": "ipython3",
   "version": "3.9.7"
  }
 },
 "nbformat": 4,
 "nbformat_minor": 5
}
